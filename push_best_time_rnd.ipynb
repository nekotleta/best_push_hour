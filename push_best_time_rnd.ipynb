{
 "cells": [
  {
   "cell_type": "code",
   "execution_count": 1,
   "metadata": {},
   "outputs": [],
   "source": [
    "import pandas as pd\n",
    "import numpy as np\n",
    "import warnings\n",
    "import seaborn as sb\n",
    "import matplotlib.pyplot as plt\n",
    "warnings.filterwarnings('ignore')"
   ]
  },
  {
   "cell_type": "code",
   "execution_count": 2,
   "metadata": {},
   "outputs": [
    {
     "name": "stdout",
     "output_type": "stream",
     "text": [
      "CPU times: user 17 s, sys: 1.58 s, total: 18.6 s\n",
      "Wall time: 18.7 s\n"
     ]
    }
   ],
   "source": [
    "%%time\n",
    "df = pd.read_csv('raw_push_stat_2022_01_13_.gz', compression='gzip', header=0, sep=';',\n",
    "                 dtype={\n",
    "                     'user_id': str,\n",
    "                     'content_id': str,\n",
    "                     'push_opened': np.int8,\n",
    "                     'content_type': str\n",
    "                 },\n",
    "                 parse_dates=['push_time', 'push_opened_time', 'create_at'])\n",
    "df = df.drop_duplicates()"
   ]
  },
  {
   "cell_type": "markdown",
   "metadata": {},
   "source": [
    "## Информация по данным"
   ]
  },
  {
   "cell_type": "code",
   "execution_count": 3,
   "metadata": {},
   "outputs": [
    {
     "name": "stdout",
     "output_type": "stream",
     "text": [
      "<class 'pandas.core.frame.DataFrame'>\n",
      "Int64Index: 2211058 entries, 0 to 3758798\n",
      "Data columns (total 7 columns):\n",
      " #   Column            Dtype         \n",
      "---  ------            -----         \n",
      " 0   user_id           object        \n",
      " 1   content_id        object        \n",
      " 2   push_opened       int8          \n",
      " 3   push_time         datetime64[ns]\n",
      " 4   push_opened_time  datetime64[ns]\n",
      " 5   create_at         datetime64[ns]\n",
      " 6   content_type      object        \n",
      "dtypes: datetime64[ns](3), int8(1), object(3)\n",
      "memory usage: 120.2+ MB\n"
     ]
    }
   ],
   "source": [
    "df.info()"
   ]
  },
  {
   "cell_type": "code",
   "execution_count": 4,
   "metadata": {},
   "outputs": [
    {
     "data": {
      "text/plain": [
       "0.05129761408339356"
      ]
     },
     "execution_count": 4,
     "metadata": {},
     "output_type": "execute_result"
    }
   ],
   "source": [
    "df[(df.push_opened == 1) & (df.push_opened_time != df.push_time)].shape[0] / df.shape[0]"
   ]
  },
  {
   "cell_type": "markdown",
   "metadata": {},
   "source": [
    "Особенности заполнения данных\n",
    "\n",
    "Если пуш не был открыт, то ```push_opened_time == push_time```, но есть исключения у ~5.1% \\\n",
    "Колонка ```create_at``` - время создания ```content_id```"
   ]
  },
  {
   "cell_type": "code",
   "execution_count": 5,
   "metadata": {},
   "outputs": [
    {
     "data": {
      "text/html": [
       "<div>\n",
       "<style scoped>\n",
       "    .dataframe tbody tr th:only-of-type {\n",
       "        vertical-align: middle;\n",
       "    }\n",
       "\n",
       "    .dataframe tbody tr th {\n",
       "        vertical-align: top;\n",
       "    }\n",
       "\n",
       "    .dataframe thead th {\n",
       "        text-align: right;\n",
       "    }\n",
       "</style>\n",
       "<table border=\"1\" class=\"dataframe\">\n",
       "  <thead>\n",
       "    <tr style=\"text-align: right;\">\n",
       "      <th></th>\n",
       "      <th>num_target</th>\n",
       "      <th>num_cases</th>\n",
       "      <th>proportion_target</th>\n",
       "    </tr>\n",
       "  </thead>\n",
       "  <tbody>\n",
       "    <tr>\n",
       "      <th>pic</th>\n",
       "      <td>113328.0</td>\n",
       "      <td>2210346</td>\n",
       "      <td>0.051272</td>\n",
       "    </tr>\n",
       "    <tr>\n",
       "      <th>caption</th>\n",
       "      <td>95.0</td>\n",
       "      <td>703</td>\n",
       "      <td>0.135135</td>\n",
       "    </tr>\n",
       "    <tr>\n",
       "      <th>video_clip_user</th>\n",
       "      <td>2.0</td>\n",
       "      <td>8</td>\n",
       "      <td>0.250000</td>\n",
       "    </tr>\n",
       "    <tr>\n",
       "      <th>gif</th>\n",
       "      <td>NaN</td>\n",
       "      <td>1</td>\n",
       "      <td>NaN</td>\n",
       "    </tr>\n",
       "  </tbody>\n",
       "</table>\n",
       "</div>"
      ],
      "text/plain": [
       "                 num_target  num_cases  proportion_target\n",
       "pic                113328.0    2210346           0.051272\n",
       "caption                95.0        703           0.135135\n",
       "video_clip_user         2.0          8           0.250000\n",
       "gif                     NaN          1                NaN"
      ]
     },
     "execution_count": 5,
     "metadata": {},
     "output_type": "execute_result"
    }
   ],
   "source": [
    "tt = df.content_type.value_counts()\n",
    "tt1 = df[df.push_opened == 1].content_type.value_counts()\n",
    "pd.DataFrame(data={\n",
    "    \"num_target\": tt1,\n",
    "    \"num_cases\": tt,\n",
    "    \"proportion_target\": tt1 / tt\n",
    "}).sort_values(by=\"num_cases\", ascending=False)"
   ]
  },
  {
   "cell_type": "code",
   "execution_count": 6,
   "metadata": {},
   "outputs": [],
   "source": [
    "df[\"push_day\"] = df[\"push_time\"].dt.date"
   ]
  },
  {
   "cell_type": "code",
   "execution_count": 7,
   "metadata": {},
   "outputs": [
    {
     "data": {
      "text/plain": [
       "pic                735198\n",
       "caption               158\n",
       "video_clip_user         3\n",
       "gif                     1\n",
       "Name: content_type, dtype: int64"
      ]
     },
     "execution_count": 7,
     "metadata": {},
     "output_type": "execute_result"
    }
   ],
   "source": [
    "df[df.push_day == pd.to_datetime(\"2021-12-14\")].content_type.value_counts()"
   ]
  },
  {
   "cell_type": "markdown",
   "metadata": {},
   "source": [
    "Набор данных искусственный и лучше всего просто убрать из обучающей выборки малочисленные content_type. Тем более что ```content_type == 'gif'``` только в последний день"
   ]
  },
  {
   "cell_type": "code",
   "execution_count": 8,
   "metadata": {},
   "outputs": [],
   "source": [
    "df = df[~df.content_type.isin([\"gif\", \"video_clip_user\"])]"
   ]
  },
  {
   "cell_type": "code",
   "execution_count": 9,
   "metadata": {},
   "outputs": [
    {
     "data": {
      "text/plain": [
       "2021-12-12    740375\n",
       "2021-12-13    735318\n",
       "2021-12-14    735356\n",
       "Name: push_day, dtype: int64"
      ]
     },
     "execution_count": 9,
     "metadata": {},
     "output_type": "execute_result"
    }
   ],
   "source": [
    "df[\"push_day\"].value_counts().sort_index()"
   ]
  },
  {
   "cell_type": "code",
   "execution_count": 10,
   "metadata": {},
   "outputs": [
    {
     "data": {
      "text/plain": [
       "(2211049, 8)"
      ]
     },
     "execution_count": 10,
     "metadata": {},
     "output_type": "execute_result"
    }
   ],
   "source": [
    "df.shape"
   ]
  },
  {
   "cell_type": "code",
   "execution_count": 11,
   "metadata": {},
   "outputs": [],
   "source": [
    "df[\"push_day\"] = df[\"push_time\"].dt.date\n",
    "#Положительные классы - час открытия пуша, отрицательные классы - час отправки пуша\n",
    "df[\"hour\"] = np.where(df.push_opened == 1, df[\"push_opened_time\"].dt.hour, df[\"push_time\"].dt.hour)"
   ]
  },
  {
   "cell_type": "markdown",
   "metadata": {},
   "source": [
    "! Нужно будет не забыть в задаче рекомендации избавиться от повторных вариантов user - hour - push_opened. Если пользователь хотя бы раз открывал пуш, то это успех"
   ]
  },
  {
   "cell_type": "code",
   "execution_count": 12,
   "metadata": {
    "scrolled": false
   },
   "outputs": [
    {
     "data": {
      "image/png": "[encoded data removed]",
      "text/plain": [
       "<Figure size 864x360 with 1 Axes>"
      ]
     },
     "metadata": {
      "needs_background": "light"
     },
     "output_type": "display_data"
    },
    {
     "data": {
      "image/png": "[encoded data removed]",
      "text/plain": [
       "<Figure size 864x360 with 1 Axes>"
      ]
     },
     "metadata": {
      "needs_background": "light"
     },
     "output_type": "display_data"
    },
    {
     "data": {
      "image/png": "[encoded data removed]",
      "text/plain": [
       "<Figure size 864x360 with 1 Axes>"
      ]
     },
     "metadata": {
      "needs_background": "light"
     },
     "output_type": "display_data"
    }
   ],
   "source": [
    "for d in df[\"push_day\"].unique():\n",
    "    curr = df[df.push_day == d]\n",
    "    plt.figure(figsize=(12, 5));\n",
    "    plt.title(d)\n",
    "    plt.hist(curr[curr.push_opened == 1][\"hour\"], alpha=0.4, label='opened')\n",
    "    plt.hist(curr[curr.push_opened == 0][\"hour\"], alpha=0.4, label='not_opened')\n",
    "    plt.legend()\n",
    "    plt.show()"
   ]
  },
  {
   "cell_type": "code",
   "execution_count": 13,
   "metadata": {
    "scrolled": false
   },
   "outputs": [
    {
     "data": {
      "text/html": [
       "<div>\n",
       "<style scoped>\n",
       "    .dataframe tbody tr th:only-of-type {\n",
       "        vertical-align: middle;\n",
       "    }\n",
       "\n",
       "    .dataframe tbody tr th {\n",
       "        vertical-align: top;\n",
       "    }\n",
       "\n",
       "    .dataframe thead th {\n",
       "        text-align: right;\n",
       "    }\n",
       "</style>\n",
       "<table border=\"1\" class=\"dataframe\">\n",
       "  <thead>\n",
       "    <tr style=\"text-align: right;\">\n",
       "      <th></th>\n",
       "      <th>num_classes</th>\n",
       "      <th>num_cases</th>\n",
       "      <th>proportion_target</th>\n",
       "    </tr>\n",
       "  </thead>\n",
       "  <tbody>\n",
       "    <tr>\n",
       "      <th>12</th>\n",
       "      <td>1279</td>\n",
       "      <td>1261</td>\n",
       "      <td>0.985927</td>\n",
       "    </tr>\n",
       "    <tr>\n",
       "      <th>10</th>\n",
       "      <td>802</td>\n",
       "      <td>789</td>\n",
       "      <td>0.983791</td>\n",
       "    </tr>\n",
       "    <tr>\n",
       "      <th>9</th>\n",
       "      <td>764</td>\n",
       "      <td>749</td>\n",
       "      <td>0.980366</td>\n",
       "    </tr>\n",
       "    <tr>\n",
       "      <th>11</th>\n",
       "      <td>1165</td>\n",
       "      <td>1137</td>\n",
       "      <td>0.975966</td>\n",
       "    </tr>\n",
       "    <tr>\n",
       "      <th>8</th>\n",
       "      <td>1112</td>\n",
       "      <td>856</td>\n",
       "      <td>0.769784</td>\n",
       "    </tr>\n",
       "    <tr>\n",
       "      <th>7</th>\n",
       "      <td>2652</td>\n",
       "      <td>1412</td>\n",
       "      <td>0.532428</td>\n",
       "    </tr>\n",
       "    <tr>\n",
       "      <th>13</th>\n",
       "      <td>10353</td>\n",
       "      <td>2167</td>\n",
       "      <td>0.209311</td>\n",
       "    </tr>\n",
       "    <tr>\n",
       "      <th>3</th>\n",
       "      <td>38135</td>\n",
       "      <td>5797</td>\n",
       "      <td>0.152013</td>\n",
       "    </tr>\n",
       "    <tr>\n",
       "      <th>1</th>\n",
       "      <td>37552</td>\n",
       "      <td>5462</td>\n",
       "      <td>0.145452</td>\n",
       "    </tr>\n",
       "    <tr>\n",
       "      <th>5</th>\n",
       "      <td>28630</td>\n",
       "      <td>4007</td>\n",
       "      <td>0.139958</td>\n",
       "    </tr>\n",
       "    <tr>\n",
       "      <th>22</th>\n",
       "      <td>28487</td>\n",
       "      <td>3926</td>\n",
       "      <td>0.137817</td>\n",
       "    </tr>\n",
       "    <tr>\n",
       "      <th>17</th>\n",
       "      <td>38823</td>\n",
       "      <td>5222</td>\n",
       "      <td>0.134508</td>\n",
       "    </tr>\n",
       "    <tr>\n",
       "      <th>19</th>\n",
       "      <td>29229</td>\n",
       "      <td>3915</td>\n",
       "      <td>0.133942</td>\n",
       "    </tr>\n",
       "    <tr>\n",
       "      <th>15</th>\n",
       "      <td>37176</td>\n",
       "      <td>4474</td>\n",
       "      <td>0.120346</td>\n",
       "    </tr>\n",
       "    <tr>\n",
       "      <th>23</th>\n",
       "      <td>55436</td>\n",
       "      <td>5450</td>\n",
       "      <td>0.098312</td>\n",
       "    </tr>\n",
       "    <tr>\n",
       "      <th>20</th>\n",
       "      <td>55243</td>\n",
       "      <td>4796</td>\n",
       "      <td>0.086816</td>\n",
       "    </tr>\n",
       "    <tr>\n",
       "      <th>6</th>\n",
       "      <td>44315</td>\n",
       "      <td>3285</td>\n",
       "      <td>0.074128</td>\n",
       "    </tr>\n",
       "    <tr>\n",
       "      <th>2</th>\n",
       "      <td>277451</td>\n",
       "      <td>10797</td>\n",
       "      <td>0.038915</td>\n",
       "    </tr>\n",
       "    <tr>\n",
       "      <th>0</th>\n",
       "      <td>237199</td>\n",
       "      <td>8561</td>\n",
       "      <td>0.036092</td>\n",
       "    </tr>\n",
       "    <tr>\n",
       "      <th>4</th>\n",
       "      <td>274347</td>\n",
       "      <td>9700</td>\n",
       "      <td>0.035357</td>\n",
       "    </tr>\n",
       "    <tr>\n",
       "      <th>21</th>\n",
       "      <td>233410</td>\n",
       "      <td>7716</td>\n",
       "      <td>0.033058</td>\n",
       "    </tr>\n",
       "    <tr>\n",
       "      <th>18</th>\n",
       "      <td>274187</td>\n",
       "      <td>8249</td>\n",
       "      <td>0.030085</td>\n",
       "    </tr>\n",
       "    <tr>\n",
       "      <th>16</th>\n",
       "      <td>273942</td>\n",
       "      <td>7949</td>\n",
       "      <td>0.029017</td>\n",
       "    </tr>\n",
       "    <tr>\n",
       "      <th>14</th>\n",
       "      <td>229360</td>\n",
       "      <td>5746</td>\n",
       "      <td>0.025052</td>\n",
       "    </tr>\n",
       "  </tbody>\n",
       "</table>\n",
       "</div>"
      ],
      "text/plain": [
       "    num_classes  num_cases  proportion_target\n",
       "12         1279       1261           0.985927\n",
       "10          802        789           0.983791\n",
       "9           764        749           0.980366\n",
       "11         1165       1137           0.975966\n",
       "8          1112        856           0.769784\n",
       "7          2652       1412           0.532428\n",
       "13        10353       2167           0.209311\n",
       "3         38135       5797           0.152013\n",
       "1         37552       5462           0.145452\n",
       "5         28630       4007           0.139958\n",
       "22        28487       3926           0.137817\n",
       "17        38823       5222           0.134508\n",
       "19        29229       3915           0.133942\n",
       "15        37176       4474           0.120346\n",
       "23        55436       5450           0.098312\n",
       "20        55243       4796           0.086816\n",
       "6         44315       3285           0.074128\n",
       "2        277451      10797           0.038915\n",
       "0        237199       8561           0.036092\n",
       "4        274347       9700           0.035357\n",
       "21       233410       7716           0.033058\n",
       "18       274187       8249           0.030085\n",
       "16       273942       7949           0.029017\n",
       "14       229360       5746           0.025052"
      ]
     },
     "execution_count": 13,
     "metadata": {},
     "output_type": "execute_result"
    }
   ],
   "source": [
    "#процент открытия пушей по часам\n",
    "pd.DataFrame(data={\n",
    "    \"num_classes\": df.hour.value_counts(),\n",
    "    \"num_cases\": df[df.push_opened == 1].hour.value_counts(),\n",
    "    \"proportion_target\": df[df.push_opened == 1].hour.value_counts() / df.hour.value_counts()\n",
    "}).sort_values(by=\"proportion_target\", ascending=False)"
   ]
  },
  {
   "cell_type": "markdown",
   "metadata": {},
   "source": [
    "__Выводы__:\n",
    "\n",
    "* В датасете представлены данные за 3 дня, логично будет делать тестовую выборку по последнему дню\n",
    "* Количество примеров по дням примерно одинаково\n",
    "* Убрала малочисленные типы контентов\n",
    "* Ввела переменную target - час открытия пуша, отрицательные классы - час отправки пуша\n",
    "* Гистограммы по часам открытия и по дням примерно одинаково => имеют схожее распределение\n",
    "* Самые \"открываемые\" часы - 7, 8, 9, 10, 11, 12, но они же и самые малочисленные"
   ]
  },
  {
   "cell_type": "markdown",
   "metadata": {},
   "source": [
    "## Проверка гипотезы"
   ]
  },
  {
   "cell_type": "markdown",
   "metadata": {},
   "source": [
    "Сейчас каждый пользователь получает фиксированное количество пушей - 7 в день. Продуктовая гипотеза: для некоторых пользователей это слишком часто, а если слишком часто отправлять пуши пользователю, он перестанет переходить в приложение по пушу и уйдёт в отток - отток это плохо, мы такого допускать не хотим"
   ]
  },
  {
   "cell_type": "markdown",
   "metadata": {},
   "source": [
    "```H_0``` - 7 пушей в день приводит к оттоку \\\n",
    "```H_A``` - иначе"
   ]
  },
  {
   "cell_type": "code",
   "execution_count": 14,
   "metadata": {},
   "outputs": [],
   "source": [
    "gr = df.groupby([\"user_id\", \"push_day\"]).content_id.count()\n",
    "gr = gr.reset_index()"
   ]
  },
  {
   "cell_type": "code",
   "execution_count": 15,
   "metadata": {},
   "outputs": [
    {
     "data": {
      "text/html": [
       "<div>\n",
       "<style scoped>\n",
       "    .dataframe tbody tr th:only-of-type {\n",
       "        vertical-align: middle;\n",
       "    }\n",
       "\n",
       "    .dataframe tbody tr th {\n",
       "        vertical-align: top;\n",
       "    }\n",
       "\n",
       "    .dataframe thead th {\n",
       "        text-align: right;\n",
       "    }\n",
       "</style>\n",
       "<table border=\"1\" class=\"dataframe\">\n",
       "  <thead>\n",
       "    <tr style=\"text-align: right;\">\n",
       "      <th></th>\n",
       "      <th>user_id</th>\n",
       "      <th>push_day</th>\n",
       "      <th>content_id</th>\n",
       "    </tr>\n",
       "  </thead>\n",
       "  <tbody>\n",
       "    <tr>\n",
       "      <th>0</th>\n",
       "      <td>0001NZ0</td>\n",
       "      <td>2021-12-14</td>\n",
       "      <td>1</td>\n",
       "    </tr>\n",
       "    <tr>\n",
       "      <th>1</th>\n",
       "      <td>0002KP2</td>\n",
       "      <td>2021-12-12</td>\n",
       "      <td>1</td>\n",
       "    </tr>\n",
       "    <tr>\n",
       "      <th>2</th>\n",
       "      <td>0002KP2</td>\n",
       "      <td>2021-12-13</td>\n",
       "      <td>1</td>\n",
       "    </tr>\n",
       "    <tr>\n",
       "      <th>3</th>\n",
       "      <td>0002KP2</td>\n",
       "      <td>2021-12-14</td>\n",
       "      <td>1</td>\n",
       "    </tr>\n",
       "    <tr>\n",
       "      <th>4</th>\n",
       "      <td>0004ZD0</td>\n",
       "      <td>2021-12-12</td>\n",
       "      <td>3</td>\n",
       "    </tr>\n",
       "  </tbody>\n",
       "</table>\n",
       "</div>"
      ],
      "text/plain": [
       "   user_id    push_day  content_id\n",
       "0  0001NZ0  2021-12-14           1\n",
       "1  0002KP2  2021-12-12           1\n",
       "2  0002KP2  2021-12-13           1\n",
       "3  0002KP2  2021-12-14           1\n",
       "4  0004ZD0  2021-12-12           3"
      ]
     },
     "execution_count": 15,
     "metadata": {},
     "output_type": "execute_result"
    }
   ],
   "source": [
    "gr.head()"
   ]
  },
  {
   "cell_type": "code",
   "execution_count": 16,
   "metadata": {},
   "outputs": [
    {
     "data": {
      "text/html": [
       "<div>\n",
       "<style scoped>\n",
       "    .dataframe tbody tr th:only-of-type {\n",
       "        vertical-align: middle;\n",
       "    }\n",
       "\n",
       "    .dataframe tbody tr th {\n",
       "        vertical-align: top;\n",
       "    }\n",
       "\n",
       "    .dataframe thead th {\n",
       "        text-align: right;\n",
       "    }\n",
       "</style>\n",
       "<table border=\"1\" class=\"dataframe\">\n",
       "  <thead>\n",
       "    <tr style=\"text-align: right;\">\n",
       "      <th></th>\n",
       "      <th>user_id</th>\n",
       "      <th>push_day</th>\n",
       "      <th>content_id</th>\n",
       "    </tr>\n",
       "  </thead>\n",
       "  <tbody>\n",
       "    <tr>\n",
       "      <th>1393833</th>\n",
       "      <td>U39JK0R</td>\n",
       "      <td>2021-12-13</td>\n",
       "      <td>7</td>\n",
       "    </tr>\n",
       "  </tbody>\n",
       "</table>\n",
       "</div>"
      ],
      "text/plain": [
       "         user_id    push_day  content_id\n",
       "1393833  U39JK0R  2021-12-13           7"
      ]
     },
     "execution_count": 16,
     "metadata": {},
     "output_type": "execute_result"
    }
   ],
   "source": [
    "gr[gr.content_id == 7]"
   ]
  },
  {
   "cell_type": "markdown",
   "metadata": {},
   "source": [
    "Всего 1 кейс с отправкой именно 7 пушей в день. Изменим гипотезу, 4 и больше пушей приводят в отток\\\n",
    "```H_0``` - пользователи с 4 и больше пушей в день чаще оттекают \\\n",
    "```H_A``` - иначе"
   ]
  },
  {
   "cell_type": "code",
   "execution_count": 17,
   "metadata": {},
   "outputs": [],
   "source": [
    "tgr = gr[gr.content_id >= 4][[\"user_id\", \"push_day\"]]"
   ]
  },
  {
   "cell_type": "code",
   "execution_count": 18,
   "metadata": {},
   "outputs": [
    {
     "data": {
      "text/plain": [
       "(7783, 2)"
      ]
     },
     "execution_count": 18,
     "metadata": {},
     "output_type": "execute_result"
    }
   ],
   "source": [
    "tgr.shape"
   ]
  },
  {
   "cell_type": "code",
   "execution_count": 19,
   "metadata": {},
   "outputs": [],
   "source": [
    "tgr = tgr.merge(df, on=[\"user_id\"])"
   ]
  },
  {
   "cell_type": "code",
   "execution_count": 20,
   "metadata": {},
   "outputs": [
    {
     "data": {
      "text/plain": [
       "(41926, 10)"
      ]
     },
     "execution_count": 20,
     "metadata": {},
     "output_type": "execute_result"
    }
   ],
   "source": [
    "tgr.shape"
   ]
  },
  {
   "cell_type": "code",
   "execution_count": 21,
   "metadata": {
    "scrolled": true
   },
   "outputs": [],
   "source": [
    "#Группа 0 - пользователи, кто получил в предыдущие дни 4 и больше пушей\n",
    "group_0 = tgr[tgr.push_day_y > tgr.push_day_x].groupby([\"user_id\", \"push_day_x\"])\\\n",
    ".apply(lambda s: s.push_opened.sum()/s.push_opened.count())"
   ]
  },
  {
   "cell_type": "code",
   "execution_count": 22,
   "metadata": {},
   "outputs": [],
   "source": [
    "stats_gr_0 = group_0.groupby(\"user_id\").mean().reset_index()"
   ]
  },
  {
   "cell_type": "code",
   "execution_count": 23,
   "metadata": {},
   "outputs": [],
   "source": [
    "#Группа 1 - те же самые пользователи из группы 0, но в дни, где они получают меньше 4 пушей\n",
    "group_1 = tgr[tgr.push_day_y <= tgr.push_day_x].groupby([\"user_id\", \"push_day_x\"])\\\n",
    ".apply(lambda s: s.push_opened.sum()/s.push_opened.count())"
   ]
  },
  {
   "cell_type": "code",
   "execution_count": 24,
   "metadata": {},
   "outputs": [],
   "source": [
    "stats_gr_1 = group_1.groupby(\"user_id\").mean().reset_index()"
   ]
  },
  {
   "cell_type": "code",
   "execution_count": 25,
   "metadata": {},
   "outputs": [],
   "source": [
    "stat_df = stats_gr_0.merge(stats_gr_1, on=[\"user_id\"])"
   ]
  },
  {
   "cell_type": "code",
   "execution_count": 26,
   "metadata": {},
   "outputs": [
    {
     "data": {
      "text/plain": [
       "(0.05811348408710219, 0.05713869333137546)"
      ]
     },
     "execution_count": 26,
     "metadata": {},
     "output_type": "execute_result"
    }
   ],
   "source": [
    "stat_df[\"0_x\"].mean(), stat_df[\"0_y\"].mean()"
   ]
  },
  {
   "cell_type": "code",
   "execution_count": 27,
   "metadata": {},
   "outputs": [
    {
     "data": {
      "text/plain": [
       "Ttest_indResult(statistic=0.20822967349587237, pvalue=0.835056301666354)"
      ]
     },
     "execution_count": 27,
     "metadata": {},
     "output_type": "execute_result"
    }
   ],
   "source": [
    "from scipy import stats\n",
    "stats.ttest_ind(stat_df[\"0_x\"], stat_df[\"0_y\"])"
   ]
  },
  {
   "cell_type": "code",
   "execution_count": 28,
   "metadata": {
    "scrolled": true
   },
   "outputs": [
    {
     "name": "stdout",
     "output_type": "stream",
     "text": [
      "CPU times: user 2min 52s, sys: 1.39 s, total: 2min 53s\n",
      "Wall time: 2min 54s\n"
     ]
    }
   ],
   "source": [
    "%%time\n",
    "#Группа 2 - клиенты, кто не получал 4 и больше пушей в день\n",
    "ugr = gr[gr.content_id < 4][[\"user_id\", \"push_day\"]]\n",
    "ugr = ugr.merge(df[[\"user_id\", \"push_day\", \"push_opened\"]], on=[\"user_id\", \"push_day\"])\n",
    "group_2 = ugr.groupby([\"user_id\", \"push_day\"]).apply(lambda s: s.push_opened.sum()/s.push_opened.count())"
   ]
  },
  {
   "cell_type": "code",
   "execution_count": 29,
   "metadata": {},
   "outputs": [
    {
     "data": {
      "text/plain": [
       "Ttest_indResult(statistic=1.844742879038277, pvalue=0.06507512786413651)"
      ]
     },
     "execution_count": 29,
     "metadata": {},
     "output_type": "execute_result"
    }
   ],
   "source": [
    "stats.ttest_ind(stat_df[\"0_x\"], group_2)"
   ]
  },
  {
   "cell_type": "code",
   "execution_count": 30,
   "metadata": {},
   "outputs": [
    {
     "data": {
      "text/plain": [
       "Ttest_indResult(statistic=1.5826192542958097, pvalue=0.1135084623883084)"
      ]
     },
     "execution_count": 30,
     "metadata": {},
     "output_type": "execute_result"
    }
   ],
   "source": [
    "stats.ttest_ind(stat_df[\"0_y\"], group_2)"
   ]
  },
  {
   "cell_type": "markdown",
   "metadata": {},
   "source": [
    "Заметим, что ```p_value > 0.05``` во всех случаях => нет оснований опровергнуть гипотезу о 4 пушей и больше в день. Значит что число пушей 4 и больше не меняет хакрактер открытия пушей"
   ]
  },
  {
   "cell_type": "markdown",
   "metadata": {},
   "source": [
    "## Генерация фичей"
   ]
  },
  {
   "cell_type": "code",
   "execution_count": 31,
   "metadata": {},
   "outputs": [
    {
     "data": {
      "text/plain": [
       "<matplotlib.axes._subplots.AxesSubplot at 0x7f7dddfd3730>"
      ]
     },
     "execution_count": 31,
     "metadata": {},
     "output_type": "execute_result"
    },
    {
     "data": {
      "image/png": "[encoded data removed]",
      "text/plain": [
       "<Figure size 432x288 with 1 Axes>"
      ]
     },
     "metadata": {
      "needs_background": "light"
     },
     "output_type": "display_data"
    }
   ],
   "source": [
    "df[df.push_opened == 0][\"hour\"].hist(alpha=0.5)\n",
    "df[df.push_opened == 1][\"hour\"].hist(alpha=0.5)"
   ]
  },
  {
   "cell_type": "code",
   "execution_count": 32,
   "metadata": {},
   "outputs": [],
   "source": [
    "#Время жизни пуша ко дню предсказания\n",
    "df[\"time_living_push\"] = (df[\"push_time\"].dt.date - df[\"create_at\"].dt.date).dt.days"
   ]
  },
  {
   "cell_type": "code",
   "execution_count": 33,
   "metadata": {},
   "outputs": [],
   "source": [
    "df = df.sort_values(by=\"push_time\").reset_index(drop=True)"
   ]
  },
  {
   "cell_type": "code",
   "execution_count": 34,
   "metadata": {
    "scrolled": true
   },
   "outputs": [
    {
     "name": "stdout",
     "output_type": "stream",
     "text": [
      "CPU times: user 5.49 s, sys: 234 ms, total: 5.72 s\n",
      "Wall time: 5.73 s\n"
     ]
    }
   ],
   "source": [
    "%%time\n",
    "gr = df.groupby([\"user_id\", \"push_day\"]).agg({\"push_opened\": [\"sum\", \"count\"]})\n",
    "gr = gr.reset_index().droplevel(level=1, axis=1)\n",
    "gr.columns = [\"user_id\", \"push_day\", \"push_opened_sum\", \"push_opened_count\"]"
   ]
  },
  {
   "cell_type": "code",
   "execution_count": 35,
   "metadata": {},
   "outputs": [
    {
     "name": "stdout",
     "output_type": "stream",
     "text": [
      "CPU times: user 7.09 s, sys: 377 ms, total: 7.46 s\n",
      "Wall time: 5.99 s\n"
     ]
    }
   ],
   "source": [
    "%%time\n",
    "#Число открытых пушей за предыдущий день\n",
    "gr[\"num_opened_push_day_before\"] = gr.groupby(\"user_id\").push_opened_sum.shift(1).fillna(0)\n",
    "#Флаг открытия пуша за предыдущий день\n",
    "gr[\"has_opened_push_day_before\"] = np.where(gr[\"num_opened_push_day_before\"] > 0, 1, 0)\n",
    "#Средняя доля открытия пушей в день\n",
    "gr[\"avg_ratio_opened_push_in_day\"] = gr.groupby(\"user_id\").push_opened_sum.shift(1).fillna(0) /\\\n",
    "                                            gr.groupby(\"user_id\").push_opened_count.shift(1).fillna(0)"
   ]
  },
  {
   "cell_type": "code",
   "execution_count": 36,
   "metadata": {},
   "outputs": [
    {
     "name": "stdout",
     "output_type": "stream",
     "text": [
      "CPU times: user 4.05 s, sys: 383 ms, total: 4.44 s\n",
      "Wall time: 4.44 s\n"
     ]
    }
   ],
   "source": [
    "%%time\n",
    "gr = gr.drop(columns=[\"push_opened_sum\", \"push_opened_count\"])\n",
    "gr = gr.fillna(0)\n",
    "df = df.merge(gr, on=[\"user_id\", \"push_day\"], how=\"left\")"
   ]
  },
  {
   "cell_type": "code",
   "execution_count": 37,
   "metadata": {},
   "outputs": [],
   "source": [
    "#One-hot encoding content type\n",
    "new_df = pd.get_dummies(df, columns=['content_type'])"
   ]
  },
  {
   "cell_type": "code",
   "execution_count": 38,
   "metadata": {},
   "outputs": [],
   "source": [
    "tt = new_df[new_df.push_opened == 1]\\\n",
    ".groupby([\"user_id\", \"push_day\"], as_index=False).hour.last()\\\n",
    ".rename(columns={\"hour\": \"last_opened_hour\"})\n",
    "\n",
    "tt[\"last_opened_hour_before\"] = tt\\\n",
    ".groupby([\"user_id\"], as_index=False).last_opened_hour.shift(-1)\n",
    "\n",
    "new_df = new_df.merge(tt.drop(columns=\"last_opened_hour\"), on=[\"user_id\", \"push_day\"], how='left')\n",
    "#Последний час, в который пользователь открыл пуш\n",
    "new_df.last_opened_hour_before = new_df.last_opened_hour_before.fillna(-1).astype(int)"
   ]
  },
  {
   "cell_type": "code",
   "execution_count": 39,
   "metadata": {},
   "outputs": [],
   "source": [
    "#Labelencoder пользователей и айтемов, где айтемы будут - час отправки пуша\n",
    "new_df[\"uid\"] = new_df[\"user_id\"].astype(\"category\")\n",
    "new_df[\"uid\"] = new_df[\"uid\"].cat.codes\n",
    "new_df[\"iid\"] = new_df[\"content_id\"].astype(\"category\")\n",
    "new_df[\"iid\"] = new_df[\"iid\"].cat.codes"
   ]
  },
  {
   "cell_type": "markdown",
   "metadata": {},
   "source": [
    "Еще идеи фичей:\n",
    "* День недели, месяц\n",
    "* Тип дня недели - будни или выходные\n",
    "* Праздничные/не праздничные дни\n",
    "* Сколько дней назад было последнее открытие пуша\n",
    "* Фичи по пользователям\n",
    "* Фичи по пушам"
   ]
  },
  {
   "cell_type": "markdown",
   "metadata": {},
   "source": [
    "## Отбор признаков"
   ]
  },
  {
   "cell_type": "markdown",
   "metadata": {},
   "source": [
    "Так как фичи придумала сама, то вероятнее всего они коррелируют между собой.\\\n",
    "Отберем фичи: удалим то, что с корреляцией больше 0.9 и оставим из них только те, что больше всего влияют на результат (с большим ```information value```)"
   ]
  },
  {
   "cell_type": "code",
   "execution_count": 40,
   "metadata": {
    "scrolled": false
   },
   "outputs": [
    {
     "data": {
      "text/plain": [
       "<matplotlib.axes._subplots.AxesSubplot at 0x7f7e13402a60>"
      ]
     },
     "execution_count": 40,
     "metadata": {},
     "output_type": "execute_result"
    },
    {
     "data": {
      "image/png": "[encoded data removed]",
      "text/plain": [
       "<Figure size 864x648 with 2 Axes>"
      ]
     },
     "metadata": {
      "needs_background": "light"
     },
     "output_type": "display_data"
    }
   ],
   "source": [
    "plt.figure(figsize=(12, 9))\n",
    "sb.heatmap(new_df.corr(), cmap=\"Blues\", annot=True)"
   ]
  },
  {
   "cell_type": "code",
   "execution_count": 41,
   "metadata": {},
   "outputs": [],
   "source": [
    "def calc_iv(df, feature, target, pr=0) -> float:\n",
    "    \"\"\"\n",
    "    Calculates information value\n",
    "    :param df: pandas.DataFrame - input data\n",
    "    :param feature: str - name of feature column\n",
    "    :param target: str - name of target column\n",
    "    :param pr: bool - if True than result dataframe will be printed\n",
    "    \n",
    "    :return: float - information value\n",
    "    \"\"\"\n",
    "\n",
    "    lst = []\n",
    "\n",
    "    for i in range(df[feature].nunique()):\n",
    "        val = list(df[feature].unique())[i]\n",
    "        lst.append([feature, val, df[df[feature] == val].count()[feature], df[(df[feature] == val) & (df[target] == 1)].count()[feature]])\n",
    "\n",
    "    data = pd.DataFrame(lst, columns=['Variable', 'Value', 'All', 'Bad'])\n",
    "    data = data[data['Bad'] > 0]\n",
    "\n",
    "    data['Share'] = data['All'] / data['All'].sum()\n",
    "    data['Bad Rate'] = data['Bad'] / data['All']\n",
    "    data['Distribution Good'] = (data['All'] - data['Bad']) / (data['All'].sum() - data['Bad'].sum())\n",
    "    data['Distribution Bad'] = data['Bad'] / data['Bad'].sum()\n",
    "    data['WoE'] = np.log(data['Distribution Good'] / data['Distribution Bad'])\n",
    "    data['IV'] = (data['WoE'] * (data['Distribution Good'] - data['Distribution Bad'])).sum()\n",
    "\n",
    "    data = data.sort_values(by=['Variable', 'Value'], ascending=True)\n",
    "\n",
    "    if pr == 1:\n",
    "        print(data)\n",
    "\n",
    "    return data['IV'].values[0]"
   ]
  },
  {
   "cell_type": "code",
   "execution_count": 42,
   "metadata": {},
   "outputs": [
    {
     "data": {
      "text/plain": [
       "(0.3145522204125395, 0.032542167264413356)"
      ]
     },
     "execution_count": 42,
     "metadata": {},
     "output_type": "execute_result"
    }
   ],
   "source": [
    "calc_iv(new_df, \"num_opened_push_day_before\", \"push_opened\"), calc_iv(new_df, \"num_opened_push_day_before\", \"hour\")"
   ]
  },
  {
   "cell_type": "code",
   "execution_count": 43,
   "metadata": {},
   "outputs": [
    {
     "data": {
      "text/plain": [
       "(0.3098380801426911, 0.03235320396376685)"
      ]
     },
     "execution_count": 43,
     "metadata": {},
     "output_type": "execute_result"
    }
   ],
   "source": [
    "calc_iv(new_df, \"has_opened_push_day_before\", \"push_opened\"), calc_iv(new_df, \"has_opened_push_day_before\", \"hour\")"
   ]
  },
  {
   "cell_type": "code",
   "execution_count": 44,
   "metadata": {
    "scrolled": true
   },
   "outputs": [
    {
     "data": {
      "text/plain": [
       "(inf, 0.032573229366570526)"
      ]
     },
     "execution_count": 44,
     "metadata": {},
     "output_type": "execute_result"
    }
   ],
   "source": [
    "calc_iv(new_df, \"avg_ratio_opened_push_in_day\", \"push_opened\"), calc_iv(new_df, \"avg_ratio_opened_push_in_day\", \"hour\")"
   ]
  },
  {
   "cell_type": "markdown",
   "metadata": {},
   "source": [
    "Оставим фичу ```num_opened_push_day_before```.\\\n",
    "Признаки ```content_type_caption, content_type_gif, content_type_pic``` - бинарные, можно сделать отбор по корреляции Крамера, а можно просто использовать как категориальные в catboost (Спойлер: как некатегориальные получилось лучше)"
   ]
  },
  {
   "cell_type": "markdown",
   "metadata": {},
   "source": [
    "## Метрика"
   ]
  },
  {
   "cell_type": "markdown",
   "metadata": {},
   "source": [
    "Закрепим метрику для сравнения наших моделей.\n",
    "Задача бинарной классификации при условии фичи часа, стандартные метрики для бинарных классификаций ```precision, recall, roc-auc```"
   ]
  },
  {
   "cell_type": "markdown",
   "metadata": {},
   "source": [
    "## Валидация"
   ]
  },
  {
   "cell_type": "markdown",
   "metadata": {},
   "source": [
    "Данные разобьем на обучение и валидацию по времени. У нас есть 3 дня, возьмем первые 2 дня как обучение и третий день - валидация.\\\n",
    "В валидации оставим только те примеры, у кого было выполнено условие ```push_opened == 1```"
   ]
  },
  {
   "cell_type": "markdown",
   "metadata": {},
   "source": [
    "## Построение моделей"
   ]
  },
  {
   "cell_type": "markdown",
   "metadata": {},
   "source": [
    "### Catboost как бинарная классификация"
   ]
  },
  {
   "cell_type": "code",
   "execution_count": 45,
   "metadata": {
    "scrolled": true
   },
   "outputs": [
    {
     "name": "stdout",
     "output_type": "stream",
     "text": [
      "0:\tlearn: 0.6491856\ttest: 0.7069437\tbest: 0.7069437 (0)\ttotal: 801ms\tremaining: 13m 20s\n",
      "1:\tlearn: 0.6865145\ttest: 0.7411786\tbest: 0.7411786 (1)\ttotal: 1.45s\tremaining: 12m 3s\n",
      "2:\tlearn: 0.6866046\ttest: 0.7411786\tbest: 0.7411786 (1)\ttotal: 1.97s\tremaining: 10m 55s\n",
      "3:\tlearn: 0.6866142\ttest: 0.7411877\tbest: 0.7411877 (3)\ttotal: 2.24s\tremaining: 9m 17s\n",
      "4:\tlearn: 0.6866129\ttest: 0.7411877\tbest: 0.7411877 (3)\ttotal: 2.66s\tremaining: 8m 50s\n",
      "5:\tlearn: 0.6866175\ttest: 0.7411877\tbest: 0.7411877 (3)\ttotal: 2.89s\tremaining: 7m 59s\n",
      "6:\tlearn: 0.6866346\ttest: 0.7413087\tbest: 0.7413087 (6)\ttotal: 3.16s\tremaining: 7m 28s\n",
      "7:\tlearn: 0.6866503\ttest: 0.7413087\tbest: 0.7413087 (6)\ttotal: 3.37s\tremaining: 6m 58s\n",
      "8:\tlearn: 0.6866507\ttest: 0.7413087\tbest: 0.7413087 (6)\ttotal: 3.58s\tremaining: 6m 34s\n",
      "9:\tlearn: 0.6866510\ttest: 0.7413087\tbest: 0.7413087 (6)\ttotal: 3.86s\tremaining: 6m 21s\n",
      "10:\tlearn: 0.6866509\ttest: 0.7413087\tbest: 0.7413087 (6)\ttotal: 4.11s\tremaining: 6m 9s\n",
      "11:\tlearn: 0.6866507\ttest: 0.7413087\tbest: 0.7413087 (6)\ttotal: 4.35s\tremaining: 5m 58s\n",
      "12:\tlearn: 0.6866506\ttest: 0.7413087\tbest: 0.7413087 (6)\ttotal: 4.55s\tremaining: 5m 45s\n",
      "13:\tlearn: 0.6866497\ttest: 0.7413042\tbest: 0.7413087 (6)\ttotal: 4.76s\tremaining: 5m 35s\n",
      "14:\tlearn: 0.6866500\ttest: 0.7413042\tbest: 0.7413087 (6)\ttotal: 4.99s\tremaining: 5m 27s\n",
      "15:\tlearn: 0.6866492\ttest: 0.7413042\tbest: 0.7413087 (6)\ttotal: 5.34s\tremaining: 5m 28s\n",
      "16:\tlearn: 0.6866491\ttest: 0.7413042\tbest: 0.7413087 (6)\ttotal: 5.54s\tremaining: 5m 20s\n",
      "17:\tlearn: 0.6866479\ttest: 0.7413042\tbest: 0.7413087 (6)\ttotal: 5.76s\tremaining: 5m 14s\n",
      "18:\tlearn: 0.6866483\ttest: 0.7413042\tbest: 0.7413087 (6)\ttotal: 5.97s\tremaining: 5m 8s\n",
      "19:\tlearn: 0.6866483\ttest: 0.7413042\tbest: 0.7413087 (6)\ttotal: 6.43s\tremaining: 5m 15s\n",
      "20:\tlearn: 0.6866487\ttest: 0.7413042\tbest: 0.7413087 (6)\ttotal: 6.65s\tremaining: 5m 9s\n",
      "21:\tlearn: 0.6866488\ttest: 0.7413042\tbest: 0.7413087 (6)\ttotal: 6.98s\tremaining: 5m 10s\n",
      "22:\tlearn: 0.6866495\ttest: 0.7413042\tbest: 0.7413087 (6)\ttotal: 7.2s\tremaining: 5m 6s\n",
      "23:\tlearn: 0.6866486\ttest: 0.7413042\tbest: 0.7413087 (6)\ttotal: 7.41s\tremaining: 5m 1s\n",
      "24:\tlearn: 0.6866494\ttest: 0.7413042\tbest: 0.7413087 (6)\ttotal: 7.65s\tremaining: 4m 58s\n",
      "25:\tlearn: 0.6866485\ttest: 0.7413042\tbest: 0.7413087 (6)\ttotal: 7.88s\tremaining: 4m 55s\n",
      "26:\tlearn: 0.6866486\ttest: 0.7413042\tbest: 0.7413087 (6)\ttotal: 8.09s\tremaining: 4m 51s\n",
      "27:\tlearn: 0.6866496\ttest: 0.7413042\tbest: 0.7413087 (6)\ttotal: 8.29s\tremaining: 4m 47s\n",
      "28:\tlearn: 0.6866492\ttest: 0.7413042\tbest: 0.7413087 (6)\ttotal: 8.5s\tremaining: 4m 44s\n",
      "29:\tlearn: 0.6866527\ttest: 0.7413059\tbest: 0.7413087 (6)\ttotal: 8.74s\tremaining: 4m 42s\n",
      "30:\tlearn: 0.6866526\ttest: 0.7413059\tbest: 0.7413087 (6)\ttotal: 8.97s\tremaining: 4m 40s\n",
      "31:\tlearn: 0.6866525\ttest: 0.7413059\tbest: 0.7413087 (6)\ttotal: 9.16s\tremaining: 4m 37s\n",
      "32:\tlearn: 0.6866528\ttest: 0.7413059\tbest: 0.7413087 (6)\ttotal: 9.36s\tremaining: 4m 34s\n",
      "33:\tlearn: 0.6866527\ttest: 0.7413059\tbest: 0.7413087 (6)\ttotal: 9.58s\tremaining: 4m 32s\n",
      "34:\tlearn: 0.6866527\ttest: 0.7413059\tbest: 0.7413087 (6)\ttotal: 9.8s\tremaining: 4m 30s\n",
      "35:\tlearn: 0.6866530\ttest: 0.7413059\tbest: 0.7413087 (6)\ttotal: 10s\tremaining: 4m 27s\n",
      "36:\tlearn: 0.6866529\ttest: 0.7413059\tbest: 0.7413087 (6)\ttotal: 10.2s\tremaining: 4m 25s\n",
      "37:\tlearn: 0.6866531\ttest: 0.7413059\tbest: 0.7413087 (6)\ttotal: 10.4s\tremaining: 4m 23s\n",
      "38:\tlearn: 0.6866532\ttest: 0.7413059\tbest: 0.7413087 (6)\ttotal: 10.6s\tremaining: 4m 21s\n",
      "39:\tlearn: 0.6866534\ttest: 0.7413059\tbest: 0.7413087 (6)\ttotal: 10.8s\tremaining: 4m 20s\n",
      "40:\tlearn: 0.6866532\ttest: 0.7413059\tbest: 0.7413087 (6)\ttotal: 11s\tremaining: 4m 18s\n",
      "41:\tlearn: 0.6866534\ttest: 0.7413059\tbest: 0.7413087 (6)\ttotal: 11.3s\tremaining: 4m 17s\n",
      "42:\tlearn: 0.6866536\ttest: 0.7413059\tbest: 0.7413087 (6)\ttotal: 11.5s\tremaining: 4m 15s\n",
      "43:\tlearn: 0.6866543\ttest: 0.7413059\tbest: 0.7413087 (6)\ttotal: 11.7s\tremaining: 4m 15s\n",
      "44:\tlearn: 0.6866543\ttest: 0.7413059\tbest: 0.7413087 (6)\ttotal: 11.9s\tremaining: 4m 13s\n",
      "45:\tlearn: 0.6866543\ttest: 0.7413059\tbest: 0.7413087 (6)\ttotal: 12.1s\tremaining: 4m 11s\n",
      "46:\tlearn: 0.6866543\ttest: 0.7413059\tbest: 0.7413087 (6)\ttotal: 12.4s\tremaining: 4m 11s\n",
      "47:\tlearn: 0.6866543\ttest: 0.7413059\tbest: 0.7413087 (6)\ttotal: 12.6s\tremaining: 4m 9s\n",
      "48:\tlearn: 0.6866543\ttest: 0.7413059\tbest: 0.7413087 (6)\ttotal: 12.8s\tremaining: 4m 8s\n",
      "49:\tlearn: 0.6866543\ttest: 0.7413059\tbest: 0.7413087 (6)\ttotal: 13s\tremaining: 4m 7s\n",
      "50:\tlearn: 0.6866543\ttest: 0.7413059\tbest: 0.7413087 (6)\ttotal: 13.2s\tremaining: 4m 6s\n",
      "51:\tlearn: 0.6866542\ttest: 0.7413059\tbest: 0.7413087 (6)\ttotal: 13.4s\tremaining: 4m 4s\n",
      "52:\tlearn: 0.6866542\ttest: 0.7413059\tbest: 0.7413087 (6)\ttotal: 13.7s\tremaining: 4m 4s\n",
      "53:\tlearn: 0.6866545\ttest: 0.7413059\tbest: 0.7413087 (6)\ttotal: 13.9s\tremaining: 4m 3s\n",
      "54:\tlearn: 0.6866544\ttest: 0.7413059\tbest: 0.7413087 (6)\ttotal: 14.1s\tremaining: 4m 2s\n",
      "55:\tlearn: 0.6866544\ttest: 0.7413059\tbest: 0.7413087 (6)\ttotal: 14.3s\tremaining: 4m 1s\n",
      "56:\tlearn: 0.6866540\ttest: 0.7413059\tbest: 0.7413087 (6)\ttotal: 14.5s\tremaining: 4m\n",
      "57:\tlearn: 0.6866540\ttest: 0.7413059\tbest: 0.7413087 (6)\ttotal: 14.8s\tremaining: 3m 59s\n",
      "58:\tlearn: 0.6866544\ttest: 0.7413059\tbest: 0.7413087 (6)\ttotal: 15s\tremaining: 3m 59s\n",
      "59:\tlearn: 0.6866540\ttest: 0.7413059\tbest: 0.7413087 (6)\ttotal: 15.2s\tremaining: 3m 58s\n",
      "60:\tlearn: 0.6866540\ttest: 0.7413059\tbest: 0.7413087 (6)\ttotal: 15.4s\tremaining: 3m 57s\n",
      "61:\tlearn: 0.6866540\ttest: 0.7413059\tbest: 0.7413087 (6)\ttotal: 15.7s\tremaining: 3m 57s\n",
      "62:\tlearn: 0.6866540\ttest: 0.7413059\tbest: 0.7413087 (6)\ttotal: 16s\tremaining: 3m 57s\n",
      "63:\tlearn: 0.6869412\ttest: 0.7414782\tbest: 0.7414782 (63)\ttotal: 16.3s\tremaining: 3m 57s\n",
      "64:\tlearn: 0.6869412\ttest: 0.7414782\tbest: 0.7414782 (63)\ttotal: 16.5s\tremaining: 3m 58s\n",
      "65:\tlearn: 0.6869412\ttest: 0.7414782\tbest: 0.7414782 (63)\ttotal: 16.8s\tremaining: 3m 57s\n",
      "66:\tlearn: 0.6869400\ttest: 0.7414782\tbest: 0.7414782 (63)\ttotal: 17.1s\tremaining: 3m 57s\n",
      "67:\tlearn: 0.6869396\ttest: 0.7414782\tbest: 0.7414782 (63)\ttotal: 17.3s\tremaining: 3m 57s\n",
      "68:\tlearn: 0.6869402\ttest: 0.7414782\tbest: 0.7414782 (63)\ttotal: 17.6s\tremaining: 3m 57s\n",
      "69:\tlearn: 0.6869402\ttest: 0.7414782\tbest: 0.7414782 (63)\ttotal: 17.8s\tremaining: 3m 56s\n",
      "70:\tlearn: 0.6869402\ttest: 0.7414782\tbest: 0.7414782 (63)\ttotal: 18s\tremaining: 3m 55s\n",
      "71:\tlearn: 0.6869402\ttest: 0.7414782\tbest: 0.7414782 (63)\ttotal: 18.3s\tremaining: 3m 55s\n",
      "72:\tlearn: 0.6869402\ttest: 0.7414782\tbest: 0.7414782 (63)\ttotal: 18.6s\tremaining: 3m 56s\n",
      "73:\tlearn: 0.6869402\ttest: 0.7414782\tbest: 0.7414782 (63)\ttotal: 18.9s\tremaining: 3m 55s\n",
      "74:\tlearn: 0.6869402\ttest: 0.7414782\tbest: 0.7414782 (63)\ttotal: 19.1s\tremaining: 3m 55s\n",
      "75:\tlearn: 0.6869403\ttest: 0.7414782\tbest: 0.7414782 (63)\ttotal: 19.3s\tremaining: 3m 54s\n",
      "76:\tlearn: 0.6869402\ttest: 0.7414782\tbest: 0.7414782 (63)\ttotal: 19.6s\tremaining: 3m 54s\n",
      "77:\tlearn: 0.6869401\ttest: 0.7414782\tbest: 0.7414782 (63)\ttotal: 19.8s\tremaining: 3m 53s\n",
      "78:\tlearn: 0.6869401\ttest: 0.7414782\tbest: 0.7414782 (63)\ttotal: 20s\tremaining: 3m 53s\n",
      "79:\tlearn: 0.6869401\ttest: 0.7414782\tbest: 0.7414782 (63)\ttotal: 20.2s\tremaining: 3m 52s\n",
      "80:\tlearn: 0.6869401\ttest: 0.7414782\tbest: 0.7414782 (63)\ttotal: 20.4s\tremaining: 3m 51s\n",
      "81:\tlearn: 0.6869401\ttest: 0.7414782\tbest: 0.7414782 (63)\ttotal: 20.7s\tremaining: 3m 51s\n",
      "82:\tlearn: 0.6869400\ttest: 0.7414782\tbest: 0.7414782 (63)\ttotal: 20.9s\tremaining: 3m 50s\n",
      "83:\tlearn: 0.6869401\ttest: 0.7414782\tbest: 0.7414782 (63)\ttotal: 21.1s\tremaining: 3m 49s\n",
      "84:\tlearn: 0.6869400\ttest: 0.7414782\tbest: 0.7414782 (63)\ttotal: 21.3s\tremaining: 3m 49s\n",
      "85:\tlearn: 0.6869400\ttest: 0.7414782\tbest: 0.7414782 (63)\ttotal: 21.5s\tremaining: 3m 48s\n",
      "86:\tlearn: 0.6869400\ttest: 0.7414782\tbest: 0.7414782 (63)\ttotal: 21.7s\tremaining: 3m 47s\n",
      "87:\tlearn: 0.6869400\ttest: 0.7414782\tbest: 0.7414782 (63)\ttotal: 21.9s\tremaining: 3m 46s\n",
      "88:\tlearn: 0.6869400\ttest: 0.7414782\tbest: 0.7414782 (63)\ttotal: 22.1s\tremaining: 3m 46s\n",
      "89:\tlearn: 0.6869400\ttest: 0.7414782\tbest: 0.7414782 (63)\ttotal: 22.3s\tremaining: 3m 45s\n",
      "90:\tlearn: 0.6869400\ttest: 0.7414782\tbest: 0.7414782 (63)\ttotal: 22.5s\tremaining: 3m 44s\n",
      "91:\tlearn: 0.6869400\ttest: 0.7414782\tbest: 0.7414782 (63)\ttotal: 22.7s\tremaining: 3m 44s\n",
      "92:\tlearn: 0.6869400\ttest: 0.7414782\tbest: 0.7414782 (63)\ttotal: 22.9s\tremaining: 3m 43s\n",
      "93:\tlearn: 0.6869400\ttest: 0.7414782\tbest: 0.7414782 (63)\ttotal: 23.1s\tremaining: 3m 42s\n"
     ]
    },
    {
     "name": "stdout",
     "output_type": "stream",
     "text": [
      "94:\tlearn: 0.6869399\ttest: 0.7414782\tbest: 0.7414782 (63)\ttotal: 23.4s\tremaining: 3m 42s\n",
      "95:\tlearn: 0.6869426\ttest: 0.7414955\tbest: 0.7414955 (95)\ttotal: 23.6s\tremaining: 3m 42s\n",
      "96:\tlearn: 0.6869426\ttest: 0.7414955\tbest: 0.7414955 (95)\ttotal: 23.8s\tremaining: 3m 41s\n",
      "97:\tlearn: 0.6869426\ttest: 0.7414955\tbest: 0.7414955 (95)\ttotal: 24s\tremaining: 3m 40s\n",
      "98:\tlearn: 0.6869425\ttest: 0.7414955\tbest: 0.7414955 (95)\ttotal: 24.2s\tremaining: 3m 40s\n",
      "99:\tlearn: 0.6869425\ttest: 0.7414955\tbest: 0.7414955 (95)\ttotal: 24.4s\tremaining: 3m 39s\n",
      "100:\tlearn: 0.6869425\ttest: 0.7414955\tbest: 0.7414955 (95)\ttotal: 24.6s\tremaining: 3m 39s\n",
      "101:\tlearn: 0.6869425\ttest: 0.7414955\tbest: 0.7414955 (95)\ttotal: 24.8s\tremaining: 3m 38s\n",
      "102:\tlearn: 0.6869425\ttest: 0.7414955\tbest: 0.7414955 (95)\ttotal: 25.1s\tremaining: 3m 38s\n",
      "103:\tlearn: 0.6869425\ttest: 0.7414955\tbest: 0.7414955 (95)\ttotal: 25.3s\tremaining: 3m 37s\n",
      "104:\tlearn: 0.6869426\ttest: 0.7414955\tbest: 0.7414955 (95)\ttotal: 25.5s\tremaining: 3m 37s\n",
      "105:\tlearn: 0.6869426\ttest: 0.7414955\tbest: 0.7414955 (95)\ttotal: 25.7s\tremaining: 3m 36s\n",
      "106:\tlearn: 0.6869426\ttest: 0.7414955\tbest: 0.7414955 (95)\ttotal: 25.9s\tremaining: 3m 35s\n",
      "107:\tlearn: 0.6869426\ttest: 0.7414955\tbest: 0.7414955 (95)\ttotal: 26.1s\tremaining: 3m 35s\n",
      "108:\tlearn: 0.6869426\ttest: 0.7414955\tbest: 0.7414955 (95)\ttotal: 26.3s\tremaining: 3m 34s\n",
      "109:\tlearn: 0.6869425\ttest: 0.7414955\tbest: 0.7414955 (95)\ttotal: 26.5s\tremaining: 3m 34s\n",
      "110:\tlearn: 0.6869425\ttest: 0.7414955\tbest: 0.7414955 (95)\ttotal: 26.7s\tremaining: 3m 33s\n",
      "111:\tlearn: 0.6869425\ttest: 0.7414955\tbest: 0.7414955 (95)\ttotal: 26.9s\tremaining: 3m 33s\n",
      "112:\tlearn: 0.6869425\ttest: 0.7414955\tbest: 0.7414955 (95)\ttotal: 27.1s\tremaining: 3m 32s\n",
      "113:\tlearn: 0.6869425\ttest: 0.7414955\tbest: 0.7414955 (95)\ttotal: 27.3s\tremaining: 3m 32s\n",
      "114:\tlearn: 0.6869425\ttest: 0.7414955\tbest: 0.7414955 (95)\ttotal: 27.5s\tremaining: 3m 31s\n",
      "115:\tlearn: 0.6869472\ttest: 0.7414955\tbest: 0.7414955 (95)\ttotal: 27.7s\tremaining: 3m 31s\n",
      "116:\tlearn: 0.6869472\ttest: 0.7414955\tbest: 0.7414955 (95)\ttotal: 27.9s\tremaining: 3m 30s\n",
      "117:\tlearn: 0.6869472\ttest: 0.7414955\tbest: 0.7414955 (95)\ttotal: 28.1s\tremaining: 3m 30s\n",
      "118:\tlearn: 0.6869472\ttest: 0.7414955\tbest: 0.7414955 (95)\ttotal: 28.4s\tremaining: 3m 29s\n",
      "119:\tlearn: 0.6869493\ttest: 0.7415121\tbest: 0.7415121 (119)\ttotal: 28.6s\tremaining: 3m 29s\n",
      "120:\tlearn: 0.6869493\ttest: 0.7415121\tbest: 0.7415121 (119)\ttotal: 28.8s\tremaining: 3m 29s\n",
      "121:\tlearn: 0.6869493\ttest: 0.7415121\tbest: 0.7415121 (119)\ttotal: 29s\tremaining: 3m 28s\n",
      "122:\tlearn: 0.6869493\ttest: 0.7415121\tbest: 0.7415121 (119)\ttotal: 29.2s\tremaining: 3m 28s\n",
      "123:\tlearn: 0.6869493\ttest: 0.7415121\tbest: 0.7415121 (119)\ttotal: 29.4s\tremaining: 3m 27s\n",
      "124:\tlearn: 0.6869493\ttest: 0.7415121\tbest: 0.7415121 (119)\ttotal: 29.6s\tremaining: 3m 27s\n",
      "125:\tlearn: 0.6869493\ttest: 0.7415121\tbest: 0.7415121 (119)\ttotal: 29.9s\tremaining: 3m 27s\n",
      "126:\tlearn: 0.6869493\ttest: 0.7415121\tbest: 0.7415121 (119)\ttotal: 30.1s\tremaining: 3m 26s\n",
      "127:\tlearn: 0.6869494\ttest: 0.7415121\tbest: 0.7415121 (119)\ttotal: 30.3s\tremaining: 3m 26s\n",
      "128:\tlearn: 0.6869494\ttest: 0.7415121\tbest: 0.7415121 (119)\ttotal: 30.5s\tremaining: 3m 26s\n",
      "129:\tlearn: 0.6869494\ttest: 0.7415121\tbest: 0.7415121 (119)\ttotal: 30.8s\tremaining: 3m 26s\n",
      "130:\tlearn: 0.6870600\ttest: 0.7415150\tbest: 0.7415150 (130)\ttotal: 31.1s\tremaining: 3m 26s\n",
      "131:\tlearn: 0.6870600\ttest: 0.7415150\tbest: 0.7415150 (130)\ttotal: 31.4s\tremaining: 3m 26s\n",
      "132:\tlearn: 0.6870600\ttest: 0.7415150\tbest: 0.7415150 (130)\ttotal: 31.7s\tremaining: 3m 26s\n",
      "133:\tlearn: 0.6870600\ttest: 0.7415150\tbest: 0.7415150 (130)\ttotal: 32s\tremaining: 3m 26s\n",
      "134:\tlearn: 0.6870602\ttest: 0.7415150\tbest: 0.7415150 (130)\ttotal: 32.2s\tremaining: 3m 26s\n",
      "135:\tlearn: 0.6870601\ttest: 0.7415150\tbest: 0.7415150 (130)\ttotal: 32.6s\tremaining: 3m 27s\n",
      "136:\tlearn: 0.6870595\ttest: 0.7415150\tbest: 0.7415150 (130)\ttotal: 32.8s\tremaining: 3m 26s\n",
      "137:\tlearn: 0.6870595\ttest: 0.7415150\tbest: 0.7415150 (130)\ttotal: 33s\tremaining: 3m 26s\n",
      "138:\tlearn: 0.6870611\ttest: 0.7415150\tbest: 0.7415150 (130)\ttotal: 33.2s\tremaining: 3m 25s\n",
      "139:\tlearn: 0.6870599\ttest: 0.7415150\tbest: 0.7415150 (130)\ttotal: 33.5s\tremaining: 3m 25s\n",
      "140:\tlearn: 0.6870599\ttest: 0.7415150\tbest: 0.7415150 (130)\ttotal: 33.7s\tremaining: 3m 25s\n",
      "141:\tlearn: 0.6870599\ttest: 0.7415150\tbest: 0.7415150 (130)\ttotal: 33.9s\tremaining: 3m 24s\n",
      "142:\tlearn: 0.6870608\ttest: 0.7415150\tbest: 0.7415150 (130)\ttotal: 34.2s\tremaining: 3m 24s\n",
      "143:\tlearn: 0.6870596\ttest: 0.7415150\tbest: 0.7415150 (130)\ttotal: 34.4s\tremaining: 3m 24s\n",
      "144:\tlearn: 0.6870596\ttest: 0.7415150\tbest: 0.7415150 (130)\ttotal: 34.6s\tremaining: 3m 23s\n",
      "145:\tlearn: 0.6870610\ttest: 0.7415150\tbest: 0.7415150 (130)\ttotal: 34.8s\tremaining: 3m 23s\n",
      "146:\tlearn: 0.6870610\ttest: 0.7415150\tbest: 0.7415150 (130)\ttotal: 35s\tremaining: 3m 23s\n",
      "147:\tlearn: 0.6870610\ttest: 0.7415150\tbest: 0.7415150 (130)\ttotal: 35.2s\tremaining: 3m 22s\n",
      "148:\tlearn: 0.6870611\ttest: 0.7415150\tbest: 0.7415150 (130)\ttotal: 35.4s\tremaining: 3m 22s\n",
      "149:\tlearn: 0.6870614\ttest: 0.7415150\tbest: 0.7415150 (130)\ttotal: 35.6s\tremaining: 3m 21s\n",
      "150:\tlearn: 0.6870613\ttest: 0.7415150\tbest: 0.7415150 (130)\ttotal: 35.8s\tremaining: 3m 21s\n",
      "151:\tlearn: 0.6870612\ttest: 0.7415150\tbest: 0.7415150 (130)\ttotal: 36.1s\tremaining: 3m 21s\n",
      "152:\tlearn: 0.6870611\ttest: 0.7415150\tbest: 0.7415150 (130)\ttotal: 36.3s\tremaining: 3m 20s\n",
      "153:\tlearn: 0.6870611\ttest: 0.7415150\tbest: 0.7415150 (130)\ttotal: 36.5s\tremaining: 3m 20s\n",
      "154:\tlearn: 0.6870617\ttest: 0.7415150\tbest: 0.7415150 (130)\ttotal: 36.8s\tremaining: 3m 20s\n",
      "155:\tlearn: 0.6870604\ttest: 0.7415150\tbest: 0.7415150 (130)\ttotal: 37s\tremaining: 3m 20s\n",
      "156:\tlearn: 0.6870617\ttest: 0.7415150\tbest: 0.7415150 (130)\ttotal: 37.2s\tremaining: 3m 19s\n",
      "157:\tlearn: 0.6870604\ttest: 0.7415150\tbest: 0.7415150 (130)\ttotal: 37.4s\tremaining: 3m 19s\n",
      "158:\tlearn: 0.6870604\ttest: 0.7415150\tbest: 0.7415150 (130)\ttotal: 37.6s\tremaining: 3m 19s\n",
      "159:\tlearn: 0.6870604\ttest: 0.7415150\tbest: 0.7415150 (130)\ttotal: 37.8s\tremaining: 3m 18s\n",
      "160:\tlearn: 0.6870604\ttest: 0.7415150\tbest: 0.7415150 (130)\ttotal: 38s\tremaining: 3m 18s\n",
      "161:\tlearn: 0.6870616\ttest: 0.7415150\tbest: 0.7415150 (130)\ttotal: 38.2s\tremaining: 3m 17s\n",
      "162:\tlearn: 0.6870604\ttest: 0.7415150\tbest: 0.7415150 (130)\ttotal: 38.4s\tremaining: 3m 17s\n",
      "163:\tlearn: 0.6870604\ttest: 0.7415150\tbest: 0.7415150 (130)\ttotal: 38.6s\tremaining: 3m 16s\n",
      "164:\tlearn: 0.6870603\ttest: 0.7415150\tbest: 0.7415150 (130)\ttotal: 38.8s\tremaining: 3m 16s\n",
      "165:\tlearn: 0.6870604\ttest: 0.7415152\tbest: 0.7415152 (165)\ttotal: 39.1s\tremaining: 3m 16s\n",
      "166:\tlearn: 0.6870616\ttest: 0.7415152\tbest: 0.7415152 (165)\ttotal: 39.3s\tremaining: 3m 15s\n",
      "167:\tlearn: 0.6894617\ttest: 0.7448030\tbest: 0.7448030 (167)\ttotal: 39.5s\tremaining: 3m 15s\n",
      "168:\tlearn: 0.6894784\ttest: 0.7448046\tbest: 0.7448046 (168)\ttotal: 39.7s\tremaining: 3m 15s\n",
      "169:\tlearn: 0.6894782\ttest: 0.7448046\tbest: 0.7448046 (168)\ttotal: 39.9s\tremaining: 3m 14s\n",
      "170:\tlearn: 0.6894783\ttest: 0.7448046\tbest: 0.7448046 (168)\ttotal: 40.1s\tremaining: 3m 14s\n",
      "171:\tlearn: 0.6894771\ttest: 0.7448046\tbest: 0.7448046 (168)\ttotal: 40.3s\tremaining: 3m 14s\n",
      "172:\tlearn: 0.6894776\ttest: 0.7448046\tbest: 0.7448046 (168)\ttotal: 40.5s\tremaining: 3m 13s\n",
      "173:\tlearn: 0.6894770\ttest: 0.7448046\tbest: 0.7448046 (168)\ttotal: 40.7s\tremaining: 3m 13s\n",
      "174:\tlearn: 0.6894782\ttest: 0.7448046\tbest: 0.7448046 (168)\ttotal: 41s\tremaining: 3m 13s\n",
      "175:\tlearn: 0.6894782\ttest: 0.7448046\tbest: 0.7448046 (168)\ttotal: 41.2s\tremaining: 3m 12s\n",
      "176:\tlearn: 0.6894770\ttest: 0.7448046\tbest: 0.7448046 (168)\ttotal: 41.4s\tremaining: 3m 12s\n",
      "177:\tlearn: 0.6894770\ttest: 0.7448046\tbest: 0.7448046 (168)\ttotal: 41.7s\tremaining: 3m 12s\n",
      "178:\tlearn: 0.6894770\ttest: 0.7448046\tbest: 0.7448046 (168)\ttotal: 41.9s\tremaining: 3m 12s\n",
      "179:\tlearn: 0.6894770\ttest: 0.7448046\tbest: 0.7448046 (168)\ttotal: 42.1s\tremaining: 3m 11s\n",
      "180:\tlearn: 0.6894764\ttest: 0.7448046\tbest: 0.7448046 (168)\ttotal: 42.3s\tremaining: 3m 11s\n",
      "181:\tlearn: 0.6894765\ttest: 0.7448046\tbest: 0.7448046 (168)\ttotal: 42.5s\tremaining: 3m 11s\n",
      "182:\tlearn: 0.6894765\ttest: 0.7448046\tbest: 0.7448046 (168)\ttotal: 42.8s\tremaining: 3m 10s\n",
      "183:\tlearn: 0.6894769\ttest: 0.7448046\tbest: 0.7448046 (168)\ttotal: 43s\tremaining: 3m 10s\n",
      "184:\tlearn: 0.6894769\ttest: 0.7448046\tbest: 0.7448046 (168)\ttotal: 43.2s\tremaining: 3m 10s\n"
     ]
    },
    {
     "name": "stdout",
     "output_type": "stream",
     "text": [
      "185:\tlearn: 0.6894771\ttest: 0.7448046\tbest: 0.7448046 (168)\ttotal: 43.6s\tremaining: 3m 10s\n",
      "186:\tlearn: 0.6894771\ttest: 0.7448046\tbest: 0.7448046 (168)\ttotal: 43.9s\tremaining: 3m 10s\n",
      "187:\tlearn: 0.6894775\ttest: 0.7448082\tbest: 0.7448082 (187)\ttotal: 44.1s\tremaining: 3m 10s\n",
      "188:\tlearn: 0.6894775\ttest: 0.7448082\tbest: 0.7448082 (187)\ttotal: 44.3s\tremaining: 3m 10s\n",
      "189:\tlearn: 0.6894775\ttest: 0.7448082\tbest: 0.7448082 (187)\ttotal: 44.6s\tremaining: 3m 10s\n",
      "190:\tlearn: 0.6896449\ttest: 0.7449569\tbest: 0.7449569 (190)\ttotal: 44.9s\tremaining: 3m 10s\n",
      "191:\tlearn: 0.6899531\ttest: 0.7451212\tbest: 0.7451212 (191)\ttotal: 45.2s\tremaining: 3m 10s\n",
      "192:\tlearn: 0.6899528\ttest: 0.7451212\tbest: 0.7451212 (191)\ttotal: 45.5s\tremaining: 3m 10s\n",
      "193:\tlearn: 0.6899529\ttest: 0.7451212\tbest: 0.7451212 (191)\ttotal: 45.8s\tremaining: 3m 10s\n",
      "194:\tlearn: 0.6899528\ttest: 0.7451212\tbest: 0.7451212 (191)\ttotal: 46s\tremaining: 3m 10s\n",
      "195:\tlearn: 0.6899528\ttest: 0.7451212\tbest: 0.7451212 (191)\ttotal: 46.3s\tremaining: 3m 9s\n",
      "196:\tlearn: 0.6899528\ttest: 0.7451212\tbest: 0.7451212 (191)\ttotal: 46.5s\tremaining: 3m 9s\n",
      "197:\tlearn: 0.6899528\ttest: 0.7451212\tbest: 0.7451212 (191)\ttotal: 46.7s\tremaining: 3m 9s\n",
      "198:\tlearn: 0.6899527\ttest: 0.7451212\tbest: 0.7451212 (191)\ttotal: 46.9s\tremaining: 3m 8s\n",
      "199:\tlearn: 0.6899527\ttest: 0.7451212\tbest: 0.7451212 (191)\ttotal: 47.2s\tremaining: 3m 8s\n",
      "200:\tlearn: 0.6899527\ttest: 0.7451212\tbest: 0.7451212 (191)\ttotal: 47.4s\tremaining: 3m 8s\n",
      "201:\tlearn: 0.6899527\ttest: 0.7451212\tbest: 0.7451212 (191)\ttotal: 47.7s\tremaining: 3m 8s\n",
      "202:\tlearn: 0.6899529\ttest: 0.7451212\tbest: 0.7451212 (191)\ttotal: 47.9s\tremaining: 3m 8s\n",
      "203:\tlearn: 0.6899529\ttest: 0.7451212\tbest: 0.7451212 (191)\ttotal: 48.2s\tremaining: 3m 8s\n",
      "204:\tlearn: 0.6899529\ttest: 0.7451212\tbest: 0.7451212 (191)\ttotal: 48.4s\tremaining: 3m 7s\n",
      "205:\tlearn: 0.6899529\ttest: 0.7451212\tbest: 0.7451212 (191)\ttotal: 48.6s\tremaining: 3m 7s\n",
      "206:\tlearn: 0.6899528\ttest: 0.7451212\tbest: 0.7451212 (206)\ttotal: 48.8s\tremaining: 3m 7s\n",
      "207:\tlearn: 0.6899528\ttest: 0.7451212\tbest: 0.7451212 (206)\ttotal: 49.1s\tremaining: 3m 6s\n",
      "208:\tlearn: 0.6899528\ttest: 0.7451212\tbest: 0.7451212 (206)\ttotal: 49.3s\tremaining: 3m 6s\n",
      "209:\tlearn: 0.6899528\ttest: 0.7451212\tbest: 0.7451212 (206)\ttotal: 49.5s\tremaining: 3m 6s\n",
      "210:\tlearn: 0.6899528\ttest: 0.7451212\tbest: 0.7451212 (206)\ttotal: 49.7s\tremaining: 3m 5s\n",
      "211:\tlearn: 0.6899518\ttest: 0.7451208\tbest: 0.7451212 (206)\ttotal: 49.9s\tremaining: 3m 5s\n",
      "212:\tlearn: 0.6899518\ttest: 0.7451208\tbest: 0.7451212 (206)\ttotal: 50.1s\tremaining: 3m 5s\n",
      "213:\tlearn: 0.6899518\ttest: 0.7451208\tbest: 0.7451212 (206)\ttotal: 50.3s\tremaining: 3m 4s\n",
      "214:\tlearn: 0.6899518\ttest: 0.7451208\tbest: 0.7451212 (206)\ttotal: 50.5s\tremaining: 3m 4s\n",
      "215:\tlearn: 0.6899520\ttest: 0.7451265\tbest: 0.7451265 (215)\ttotal: 50.7s\tremaining: 3m 4s\n",
      "216:\tlearn: 0.6899520\ttest: 0.7451265\tbest: 0.7451265 (215)\ttotal: 50.9s\tremaining: 3m 3s\n",
      "217:\tlearn: 0.6899520\ttest: 0.7451265\tbest: 0.7451265 (215)\ttotal: 51.1s\tremaining: 3m 3s\n",
      "218:\tlearn: 0.6899520\ttest: 0.7451265\tbest: 0.7451265 (215)\ttotal: 51.3s\tremaining: 3m 3s\n",
      "219:\tlearn: 0.6899520\ttest: 0.7451265\tbest: 0.7451265 (215)\ttotal: 51.6s\tremaining: 3m 2s\n",
      "220:\tlearn: 0.6899519\ttest: 0.7451265\tbest: 0.7451265 (215)\ttotal: 51.8s\tremaining: 3m 2s\n",
      "221:\tlearn: 0.6899520\ttest: 0.7451265\tbest: 0.7451265 (215)\ttotal: 52s\tremaining: 3m 2s\n",
      "222:\tlearn: 0.6899520\ttest: 0.7451265\tbest: 0.7451265 (215)\ttotal: 52.2s\tremaining: 3m 1s\n",
      "223:\tlearn: 0.6899520\ttest: 0.7451265\tbest: 0.7451265 (215)\ttotal: 52.4s\tremaining: 3m 1s\n",
      "224:\tlearn: 0.6899520\ttest: 0.7451265\tbest: 0.7451265 (215)\ttotal: 52.6s\tremaining: 3m 1s\n",
      "225:\tlearn: 0.6899530\ttest: 0.7451269\tbest: 0.7451269 (225)\ttotal: 52.8s\tremaining: 3m\n",
      "226:\tlearn: 0.6899528\ttest: 0.7451269\tbest: 0.7451269 (225)\ttotal: 53s\tremaining: 3m\n",
      "227:\tlearn: 0.6899545\ttest: 0.7451237\tbest: 0.7451269 (225)\ttotal: 53.2s\tremaining: 3m\n",
      "228:\tlearn: 0.6899545\ttest: 0.7451237\tbest: 0.7451269 (225)\ttotal: 53.5s\tremaining: 3m\n",
      "229:\tlearn: 0.6899545\ttest: 0.7451237\tbest: 0.7451269 (225)\ttotal: 53.7s\tremaining: 2m 59s\n",
      "230:\tlearn: 0.6899545\ttest: 0.7451237\tbest: 0.7451269 (225)\ttotal: 53.9s\tremaining: 2m 59s\n",
      "231:\tlearn: 0.6899542\ttest: 0.7451237\tbest: 0.7451269 (225)\ttotal: 54.1s\tremaining: 2m 59s\n",
      "232:\tlearn: 0.6899542\ttest: 0.7451237\tbest: 0.7451269 (225)\ttotal: 54.3s\tremaining: 2m 58s\n",
      "233:\tlearn: 0.6899541\ttest: 0.7451237\tbest: 0.7451269 (225)\ttotal: 54.5s\tremaining: 2m 58s\n",
      "234:\tlearn: 0.6899541\ttest: 0.7451237\tbest: 0.7451269 (225)\ttotal: 54.7s\tremaining: 2m 58s\n",
      "235:\tlearn: 0.6899541\ttest: 0.7451237\tbest: 0.7451269 (225)\ttotal: 54.9s\tremaining: 2m 57s\n",
      "236:\tlearn: 0.6899541\ttest: 0.7451237\tbest: 0.7451269 (225)\ttotal: 55.2s\tremaining: 2m 57s\n",
      "237:\tlearn: 0.6899543\ttest: 0.7451239\tbest: 0.7451269 (225)\ttotal: 55.4s\tremaining: 2m 57s\n",
      "238:\tlearn: 0.6899543\ttest: 0.7451239\tbest: 0.7451269 (225)\ttotal: 55.6s\tremaining: 2m 56s\n",
      "239:\tlearn: 0.6899543\ttest: 0.7451239\tbest: 0.7451269 (225)\ttotal: 56s\tremaining: 2m 57s\n",
      "240:\tlearn: 0.6899543\ttest: 0.7451239\tbest: 0.7451269 (225)\ttotal: 56.2s\tremaining: 2m 56s\n",
      "241:\tlearn: 0.6899543\ttest: 0.7451239\tbest: 0.7451269 (225)\ttotal: 56.4s\tremaining: 2m 56s\n",
      "242:\tlearn: 0.6899542\ttest: 0.7451239\tbest: 0.7451269 (225)\ttotal: 56.6s\tremaining: 2m 56s\n",
      "243:\tlearn: 0.6899541\ttest: 0.7451239\tbest: 0.7451269 (225)\ttotal: 56.8s\tremaining: 2m 56s\n",
      "244:\tlearn: 0.6899541\ttest: 0.7451239\tbest: 0.7451269 (225)\ttotal: 57.1s\tremaining: 2m 55s\n",
      "245:\tlearn: 0.6899542\ttest: 0.7451239\tbest: 0.7451269 (225)\ttotal: 57.3s\tremaining: 2m 55s\n",
      "246:\tlearn: 0.6899542\ttest: 0.7451239\tbest: 0.7451269 (225)\ttotal: 57.5s\tremaining: 2m 55s\n",
      "247:\tlearn: 0.6899539\ttest: 0.7451239\tbest: 0.7451269 (225)\ttotal: 57.7s\tremaining: 2m 55s\n",
      "248:\tlearn: 0.6899539\ttest: 0.7451239\tbest: 0.7451269 (225)\ttotal: 58s\tremaining: 2m 54s\n",
      "249:\tlearn: 0.6899543\ttest: 0.7451234\tbest: 0.7451269 (225)\ttotal: 58.2s\tremaining: 2m 54s\n",
      "250:\tlearn: 0.6899543\ttest: 0.7451234\tbest: 0.7451269 (225)\ttotal: 58.5s\tremaining: 2m 54s\n",
      "251:\tlearn: 0.6899543\ttest: 0.7451234\tbest: 0.7451269 (225)\ttotal: 58.7s\tremaining: 2m 54s\n",
      "252:\tlearn: 0.6899543\ttest: 0.7451234\tbest: 0.7451269 (225)\ttotal: 59s\tremaining: 2m 54s\n",
      "253:\tlearn: 0.6899543\ttest: 0.7451234\tbest: 0.7451269 (225)\ttotal: 59.2s\tremaining: 2m 53s\n",
      "254:\tlearn: 0.6899544\ttest: 0.7451234\tbest: 0.7451269 (225)\ttotal: 59.4s\tremaining: 2m 53s\n",
      "255:\tlearn: 0.6899543\ttest: 0.7451234\tbest: 0.7451269 (225)\ttotal: 59.7s\tremaining: 2m 53s\n",
      "256:\tlearn: 0.6899545\ttest: 0.7451234\tbest: 0.7451269 (225)\ttotal: 60s\tremaining: 2m 53s\n",
      "257:\tlearn: 0.6899545\ttest: 0.7451234\tbest: 0.7451269 (225)\ttotal: 1m\tremaining: 2m 53s\n",
      "258:\tlearn: 0.6899546\ttest: 0.7451234\tbest: 0.7451269 (225)\ttotal: 1m\tremaining: 2m 53s\n",
      "259:\tlearn: 0.6899551\ttest: 0.7451234\tbest: 0.7451269 (225)\ttotal: 1m\tremaining: 2m 52s\n",
      "260:\tlearn: 0.6899551\ttest: 0.7451234\tbest: 0.7451269 (225)\ttotal: 1m 1s\tremaining: 2m 52s\n",
      "261:\tlearn: 0.6899551\ttest: 0.7451234\tbest: 0.7451269 (225)\ttotal: 1m 1s\tremaining: 2m 52s\n",
      "262:\tlearn: 0.6899552\ttest: 0.7451234\tbest: 0.7451269 (225)\ttotal: 1m 1s\tremaining: 2m 52s\n",
      "263:\tlearn: 0.6899550\ttest: 0.7451234\tbest: 0.7451269 (225)\ttotal: 1m 1s\tremaining: 2m 52s\n",
      "264:\tlearn: 0.6899550\ttest: 0.7451234\tbest: 0.7451269 (225)\ttotal: 1m 2s\tremaining: 2m 52s\n",
      "265:\tlearn: 0.6899550\ttest: 0.7451234\tbest: 0.7451269 (225)\ttotal: 1m 2s\tremaining: 2m 51s\n",
      "266:\tlearn: 0.6899550\ttest: 0.7451234\tbest: 0.7451269 (225)\ttotal: 1m 2s\tremaining: 2m 51s\n",
      "267:\tlearn: 0.6899550\ttest: 0.7451234\tbest: 0.7451269 (225)\ttotal: 1m 3s\tremaining: 2m 52s\n",
      "268:\tlearn: 0.6899550\ttest: 0.7451234\tbest: 0.7451269 (225)\ttotal: 1m 3s\tremaining: 2m 51s\n",
      "269:\tlearn: 0.6899537\ttest: 0.7451178\tbest: 0.7451269 (225)\ttotal: 1m 3s\tremaining: 2m 51s\n",
      "270:\tlearn: 0.6899537\ttest: 0.7451178\tbest: 0.7451269 (225)\ttotal: 1m 3s\tremaining: 2m 51s\n",
      "271:\tlearn: 0.6899537\ttest: 0.7451178\tbest: 0.7451269 (225)\ttotal: 1m 4s\tremaining: 2m 51s\n",
      "272:\tlearn: 0.6899538\ttest: 0.7451178\tbest: 0.7451269 (225)\ttotal: 1m 4s\tremaining: 2m 51s\n",
      "273:\tlearn: 0.6899534\ttest: 0.7451178\tbest: 0.7451269 (225)\ttotal: 1m 4s\tremaining: 2m 51s\n",
      "274:\tlearn: 0.6899534\ttest: 0.7451178\tbest: 0.7451269 (225)\ttotal: 1m 4s\tremaining: 2m 51s\n",
      "275:\tlearn: 0.6899534\ttest: 0.7451178\tbest: 0.7451269 (225)\ttotal: 1m 5s\tremaining: 2m 50s\n"
     ]
    },
    {
     "name": "stdout",
     "output_type": "stream",
     "text": [
      "276:\tlearn: 0.6899534\ttest: 0.7451178\tbest: 0.7451269 (225)\ttotal: 1m 5s\tremaining: 2m 50s\n",
      "277:\tlearn: 0.6899535\ttest: 0.7451178\tbest: 0.7451269 (225)\ttotal: 1m 5s\tremaining: 2m 50s\n",
      "278:\tlearn: 0.6899535\ttest: 0.7451178\tbest: 0.7451269 (225)\ttotal: 1m 5s\tremaining: 2m 50s\n",
      "279:\tlearn: 0.6899534\ttest: 0.7451178\tbest: 0.7451269 (225)\ttotal: 1m 6s\tremaining: 2m 49s\n",
      "280:\tlearn: 0.6899535\ttest: 0.7451178\tbest: 0.7451269 (225)\ttotal: 1m 6s\tremaining: 2m 49s\n",
      "281:\tlearn: 0.6899535\ttest: 0.7451179\tbest: 0.7451269 (225)\ttotal: 1m 6s\tremaining: 2m 49s\n",
      "282:\tlearn: 0.6899535\ttest: 0.7451179\tbest: 0.7451269 (225)\ttotal: 1m 6s\tremaining: 2m 48s\n",
      "283:\tlearn: 0.6899535\ttest: 0.7451179\tbest: 0.7451269 (225)\ttotal: 1m 6s\tremaining: 2m 48s\n",
      "284:\tlearn: 0.6899537\ttest: 0.7451178\tbest: 0.7451269 (225)\ttotal: 1m 7s\tremaining: 2m 48s\n",
      "285:\tlearn: 0.6899535\ttest: 0.7451178\tbest: 0.7451269 (225)\ttotal: 1m 7s\tremaining: 2m 48s\n",
      "286:\tlearn: 0.6899535\ttest: 0.7451178\tbest: 0.7451269 (225)\ttotal: 1m 7s\tremaining: 2m 48s\n",
      "287:\tlearn: 0.6899535\ttest: 0.7451178\tbest: 0.7451269 (225)\ttotal: 1m 7s\tremaining: 2m 48s\n",
      "288:\tlearn: 0.6899535\ttest: 0.7451178\tbest: 0.7451269 (225)\ttotal: 1m 8s\tremaining: 2m 47s\n",
      "289:\tlearn: 0.6899535\ttest: 0.7451178\tbest: 0.7451269 (225)\ttotal: 1m 8s\tremaining: 2m 47s\n",
      "290:\tlearn: 0.6899535\ttest: 0.7451178\tbest: 0.7451269 (225)\ttotal: 1m 8s\tremaining: 2m 47s\n",
      "291:\tlearn: 0.6899535\ttest: 0.7451178\tbest: 0.7451269 (225)\ttotal: 1m 8s\tremaining: 2m 46s\n",
      "292:\tlearn: 0.6899535\ttest: 0.7451178\tbest: 0.7451269 (225)\ttotal: 1m 8s\tremaining: 2m 46s\n",
      "293:\tlearn: 0.6899536\ttest: 0.7451178\tbest: 0.7451269 (225)\ttotal: 1m 9s\tremaining: 2m 46s\n",
      "294:\tlearn: 0.6899536\ttest: 0.7451178\tbest: 0.7451269 (225)\ttotal: 1m 9s\tremaining: 2m 45s\n",
      "295:\tlearn: 0.6899537\ttest: 0.7451178\tbest: 0.7451269 (225)\ttotal: 1m 9s\tremaining: 2m 45s\n",
      "296:\tlearn: 0.6899537\ttest: 0.7451178\tbest: 0.7451269 (225)\ttotal: 1m 9s\tremaining: 2m 45s\n",
      "297:\tlearn: 0.6899537\ttest: 0.7451178\tbest: 0.7451269 (225)\ttotal: 1m 10s\tremaining: 2m 45s\n",
      "298:\tlearn: 0.6899537\ttest: 0.7451178\tbest: 0.7451269 (225)\ttotal: 1m 10s\tremaining: 2m 44s\n",
      "299:\tlearn: 0.6899537\ttest: 0.7451178\tbest: 0.7451269 (225)\ttotal: 1m 10s\tremaining: 2m 44s\n",
      "300:\tlearn: 0.6899537\ttest: 0.7451178\tbest: 0.7451269 (225)\ttotal: 1m 10s\tremaining: 2m 44s\n",
      "301:\tlearn: 0.6899537\ttest: 0.7451178\tbest: 0.7451269 (225)\ttotal: 1m 11s\tremaining: 2m 44s\n",
      "302:\tlearn: 0.6899537\ttest: 0.7451178\tbest: 0.7451269 (225)\ttotal: 1m 11s\tremaining: 2m 43s\n",
      "303:\tlearn: 0.6899537\ttest: 0.7451178\tbest: 0.7451269 (225)\ttotal: 1m 11s\tremaining: 2m 43s\n",
      "304:\tlearn: 0.6899536\ttest: 0.7451178\tbest: 0.7451269 (225)\ttotal: 1m 11s\tremaining: 2m 43s\n",
      "305:\tlearn: 0.6899536\ttest: 0.7451178\tbest: 0.7451269 (225)\ttotal: 1m 12s\tremaining: 2m 43s\n",
      "306:\tlearn: 0.6899536\ttest: 0.7451178\tbest: 0.7451269 (225)\ttotal: 1m 12s\tremaining: 2m 43s\n",
      "307:\tlearn: 0.6899536\ttest: 0.7451178\tbest: 0.7451269 (225)\ttotal: 1m 12s\tremaining: 2m 42s\n",
      "308:\tlearn: 0.6899536\ttest: 0.7451178\tbest: 0.7451269 (225)\ttotal: 1m 12s\tremaining: 2m 42s\n",
      "309:\tlearn: 0.6899536\ttest: 0.7451178\tbest: 0.7451269 (225)\ttotal: 1m 12s\tremaining: 2m 42s\n",
      "310:\tlearn: 0.6899537\ttest: 0.7451178\tbest: 0.7451269 (225)\ttotal: 1m 13s\tremaining: 2m 41s\n",
      "311:\tlearn: 0.6899537\ttest: 0.7451178\tbest: 0.7451269 (225)\ttotal: 1m 13s\tremaining: 2m 41s\n",
      "312:\tlearn: 0.6899537\ttest: 0.7451178\tbest: 0.7451269 (225)\ttotal: 1m 13s\tremaining: 2m 41s\n",
      "313:\tlearn: 0.6899537\ttest: 0.7451178\tbest: 0.7451269 (225)\ttotal: 1m 13s\tremaining: 2m 41s\n",
      "314:\tlearn: 0.6899539\ttest: 0.7451183\tbest: 0.7451269 (225)\ttotal: 1m 13s\tremaining: 2m 40s\n",
      "315:\tlearn: 0.6899539\ttest: 0.7451183\tbest: 0.7451269 (225)\ttotal: 1m 14s\tremaining: 2m 40s\n",
      "316:\tlearn: 0.6899539\ttest: 0.7451183\tbest: 0.7451269 (225)\ttotal: 1m 14s\tremaining: 2m 40s\n",
      "317:\tlearn: 0.6899539\ttest: 0.7451183\tbest: 0.7451269 (225)\ttotal: 1m 14s\tremaining: 2m 40s\n",
      "318:\tlearn: 0.6899538\ttest: 0.7451183\tbest: 0.7451269 (225)\ttotal: 1m 14s\tremaining: 2m 39s\n",
      "319:\tlearn: 0.6899538\ttest: 0.7451183\tbest: 0.7451269 (225)\ttotal: 1m 15s\tremaining: 2m 39s\n",
      "320:\tlearn: 0.6899538\ttest: 0.7451183\tbest: 0.7451269 (225)\ttotal: 1m 15s\tremaining: 2m 39s\n",
      "321:\tlearn: 0.6899539\ttest: 0.7451183\tbest: 0.7451269 (225)\ttotal: 1m 15s\tremaining: 2m 39s\n",
      "322:\tlearn: 0.6899538\ttest: 0.7451183\tbest: 0.7451269 (225)\ttotal: 1m 15s\tremaining: 2m 38s\n",
      "323:\tlearn: 0.6899538\ttest: 0.7451183\tbest: 0.7451269 (225)\ttotal: 1m 15s\tremaining: 2m 38s\n",
      "324:\tlearn: 0.6899538\ttest: 0.7451183\tbest: 0.7451269 (225)\ttotal: 1m 16s\tremaining: 2m 38s\n",
      "325:\tlearn: 0.6899538\ttest: 0.7451183\tbest: 0.7451269 (225)\ttotal: 1m 16s\tremaining: 2m 37s\n",
      "Stopped by overfitting detector  (100 iterations wait)\n",
      "\n",
      "bestTest = 0.7451268606\n",
      "bestIteration = 225\n",
      "\n",
      "Shrink model to first 226 iterations.\n"
     ]
    },
    {
     "data": {
      "text/plain": [
       "<catboost.core.CatBoostClassifier at 0x7f7e08e96430>"
      ]
     },
     "execution_count": 45,
     "metadata": {},
     "output_type": "execute_result"
    }
   ],
   "source": [
    "from catboost import Pool, CatBoostClassifier\n",
    "drop_cols = [\n",
    "    'push_time', 'push_opened_time', 'time_living_push',\n",
    "    'create_at', 'push_day', 'user_id', 'content_id', 'iid',\n",
    "    'has_opened_push_day_before', 'avg_ratio_opened_push_in_day',\n",
    "    'last_opened_hour_before'\n",
    "]\n",
    "\n",
    "train_data = new_df[(new_df.push_day < pd.to_datetime('2021-12-14'))]\\\n",
    "                .drop(columns=drop_cols)\\\n",
    "                .drop_duplicates()\n",
    "\n",
    "#Валидируемся только на правильных ответах\n",
    "eval_data = new_df[(new_df.push_day == pd.to_datetime('2021-12-14'))]\\\n",
    "                .drop(columns=drop_cols)\\\n",
    "                .drop_duplicates()\n",
    "\n",
    "cat_features = ['uid', 'hour']\n",
    "\n",
    "train_dataset = Pool(data=train_data.drop(columns=\"push_opened\"),\n",
    "                     label=train_data[\"push_opened\"],\n",
    "                     cat_features=cat_features)\n",
    "\n",
    "eval_dataset = Pool(data=eval_data.drop(columns=\"push_opened\"),\n",
    "                    label=eval_data[\"push_opened\"],\n",
    "                    cat_features=cat_features)\n",
    "\n",
    "model = CatBoostClassifier(iterations=1000, learning_rate=0.001, l2_leaf_reg=2,\n",
    "                           depth=3, custom_loss=['Logloss', 'AUC:hints=skip_train~false'], \n",
    "                           task_type=\"CPU\", devices='0:1', early_stopping_rounds=100,\n",
    "                           eval_metric='AUC', use_best_model=True, random_seed=13)\n",
    "\n",
    "model.fit(train_dataset, eval_set=eval_dataset)"
   ]
  },
  {
   "cell_type": "code",
   "execution_count": 46,
   "metadata": {},
   "outputs": [
    {
     "data": {
      "text/plain": [
       "42"
      ]
     },
     "execution_count": 46,
     "metadata": {},
     "output_type": "execute_result"
    }
   ],
   "source": [
    "import gc\n",
    "gc.collect()"
   ]
  },
  {
   "cell_type": "code",
   "execution_count": 47,
   "metadata": {},
   "outputs": [
    {
     "data": {
      "text/html": [
       "<div>\n",
       "<style scoped>\n",
       "    .dataframe tbody tr th:only-of-type {\n",
       "        vertical-align: middle;\n",
       "    }\n",
       "\n",
       "    .dataframe tbody tr th {\n",
       "        vertical-align: top;\n",
       "    }\n",
       "\n",
       "    .dataframe thead th {\n",
       "        text-align: right;\n",
       "    }\n",
       "</style>\n",
       "<table border=\"1\" class=\"dataframe\">\n",
       "  <thead>\n",
       "    <tr style=\"text-align: right;\">\n",
       "      <th></th>\n",
       "      <th>labels</th>\n",
       "      <th>imp</th>\n",
       "    </tr>\n",
       "  </thead>\n",
       "  <tbody>\n",
       "    <tr>\n",
       "      <th>0</th>\n",
       "      <td>hour</td>\n",
       "      <td>79.929443</td>\n",
       "    </tr>\n",
       "    <tr>\n",
       "      <th>1</th>\n",
       "      <td>num_opened_push_day_before</td>\n",
       "      <td>19.877306</td>\n",
       "    </tr>\n",
       "    <tr>\n",
       "      <th>2</th>\n",
       "      <td>content_type_caption</td>\n",
       "      <td>0.191318</td>\n",
       "    </tr>\n",
       "    <tr>\n",
       "      <th>3</th>\n",
       "      <td>content_type_pic</td>\n",
       "      <td>0.001933</td>\n",
       "    </tr>\n",
       "    <tr>\n",
       "      <th>4</th>\n",
       "      <td>uid</td>\n",
       "      <td>0.000000</td>\n",
       "    </tr>\n",
       "  </tbody>\n",
       "</table>\n",
       "</div>"
      ],
      "text/plain": [
       "                       labels        imp\n",
       "0                        hour  79.929443\n",
       "1  num_opened_push_day_before  19.877306\n",
       "2        content_type_caption   0.191318\n",
       "3            content_type_pic   0.001933\n",
       "4                         uid   0.000000"
      ]
     },
     "execution_count": 47,
     "metadata": {},
     "output_type": "execute_result"
    }
   ],
   "source": [
    "pd.DataFrame(data={\"labels\": model.feature_names_, \"imp\": model.feature_importances_})\\\n",
    ".sort_values(by=\"imp\", ascending=False)"
   ]
  },
  {
   "cell_type": "code",
   "execution_count": 48,
   "metadata": {},
   "outputs": [],
   "source": [
    "preds = model.predict_proba(eval_dataset)[:,1]"
   ]
  },
  {
   "cell_type": "code",
   "execution_count": 49,
   "metadata": {},
   "outputs": [
    {
     "data": {
      "text/plain": [
       "<matplotlib.axes._subplots.AxesSubplot at 0x7f7dddfc4af0>"
      ]
     },
     "execution_count": 49,
     "metadata": {},
     "output_type": "execute_result"
    },
    {
     "data": {
      "image/png": "[encoded data removed]",
      "text/plain": [
       "<Figure size 432x288 with 1 Axes>"
      ]
     },
     "metadata": {
      "needs_background": "light"
     },
     "output_type": "display_data"
    }
   ],
   "source": [
    "pd.Series(preds).hist()"
   ]
  },
  {
   "cell_type": "code",
   "execution_count": 50,
   "metadata": {},
   "outputs": [
    {
     "data": {
      "text/plain": [
       "(0.3372213075871306, 0.3206761131454652, 0.3287406661860914, None)"
      ]
     },
     "execution_count": 50,
     "metadata": {},
     "output_type": "execute_result"
    }
   ],
   "source": [
    "from sklearn.metrics import precision_recall_fscore_support\n",
    "threshold = 0.4\n",
    "precision_recall_fscore_support(eval_data[\"push_opened\"], preds > threshold, average='binary')"
   ]
  },
  {
   "cell_type": "code",
   "execution_count": 51,
   "metadata": {},
   "outputs": [
    {
     "data": {
      "image/png": "[encoded data removed]",
      "text/plain": [
       "<Figure size 640x480 with 1 Axes>"
      ]
     },
     "metadata": {},
     "output_type": "display_data"
    }
   ],
   "source": [
    "import matplotlib.pyplot as plt\n",
    "from sklearn.metrics import roc_curve, roc_auc_score\n",
    "fpr, tpr, _ = roc_curve(eval_data[\"push_opened\"],  preds)\n",
    "auc = roc_auc_score(eval_data[\"push_opened\"],  preds)\n",
    "#create ROC curve\n",
    "plt.style.use('default');\n",
    "plt.plot(fpr,tpr,label=\"AUC=\"+str(auc))\n",
    "plt.legend(loc=4)\n",
    "plt.ylabel('True Positive Rate')\n",
    "plt.xlabel('False Positive Rate')\n",
    "plt.show()"
   ]
  },
  {
   "cell_type": "code",
   "execution_count": 52,
   "metadata": {
    "scrolled": false
   },
   "outputs": [
    {
     "data": {
      "text/plain": [
       "<sklearn.metrics._plot.confusion_matrix.ConfusionMatrixDisplay at 0x7f7e0b8d2670>"
      ]
     },
     "execution_count": 52,
     "metadata": {},
     "output_type": "execute_result"
    },
    {
     "data": {
      "image/png": "[encoded data removed]",
      "text/plain": [
       "<Figure size 640x480 with 2 Axes>"
      ]
     },
     "metadata": {},
     "output_type": "display_data"
    }
   ],
   "source": [
    "from sklearn.metrics import plot_confusion_matrix\n",
    "plt.style.use('default');\n",
    "plot_confusion_matrix(model, eval_data[model.feature_names_], eval_data[\"push_opened\"]) "
   ]
  },
  {
   "cell_type": "code",
   "execution_count": 53,
   "metadata": {},
   "outputs": [
    {
     "data": {
      "image/png": "[encoded data removed]",
      "text/plain": [
       "<Figure size 1500x800 with 1 Axes>"
      ]
     },
     "metadata": {},
     "output_type": "display_data"
    }
   ],
   "source": [
    "from sklearn.metrics import roc_curve, roc_auc_score\n",
    "rc_s = []\n",
    "for t in new_df.hour.unique():\n",
    "    pred_t = model.predict_proba(eval_data[eval_data.hour == t][model.feature_names_])[:,1]\n",
    "    rc_s.append(roc_auc_score(eval_data[eval_data.hour == t].push_opened, pred_t))\n",
    "\n",
    "tt = pd.DataFrame(data={\n",
    "    \"class\": new_df.hour.unique(),\n",
    "    \"roc_auc\": rc_s\n",
    "}).sort_values(by=\"class\").reset_index(drop=True)\n",
    "\n",
    "plt.figure(figsize=(15, 8));\n",
    "plt.style.use('seaborn-whitegrid');\n",
    "plt.plot(tt[\"class\"], tt[\"roc_auc\"], '-o');\n",
    "for a,b in zip(tt[\"class\"], np.round(tt[\"roc_auc\"], 3)): \n",
    "    plt.text(a, b, str(b), fontsize=13, va='bottom', \\\n",
    "             Bbox = dict(facecolor = 'white', alpha =.4))\n",
    "plt.xticks(tt[\"class\"]);"
   ]
  },
  {
   "cell_type": "code",
   "execution_count": 54,
   "metadata": {},
   "outputs": [],
   "source": [
    "def get_top_1_recs(model, user):\n",
    "    list_hours = np.arange(0, 24)\n",
    "    res = []\n",
    "    res.append(model.predict_proba(user)[:, 1][0])\n",
    "    for h in range(1, 24):\n",
    "        user[f\"hour\"] = h\n",
    "        res.append(model.predict_proba(user)[:, 1][0])\n",
    "    return np.array(res).argmax()"
   ]
  },
  {
   "cell_type": "code",
   "execution_count": 55,
   "metadata": {
    "scrolled": true
   },
   "outputs": [
    {
     "data": {
      "application/vnd.jupyter.widget-view+json": {
       "model_id": "ccfe8c64af9e426786d7df93f7b8fa85",
       "version_major": 2,
       "version_minor": 0
      },
      "text/plain": [
       "HBox(children=(FloatProgress(value=0.0, max=999.0), HTML(value='')))"
      ]
     },
     "metadata": {},
     "output_type": "display_data"
    },
    {
     "name": "stdout",
     "output_type": "stream",
     "text": [
      "\n"
     ]
    }
   ],
   "source": [
    "from tqdm.notebook import tqdm\n",
    "res = []\n",
    "for c in tqdm(range(1, 1000)):\n",
    "    res.append(get_top_1_recs(model, eval_data.iloc[c-1:c][model.feature_names_]))"
   ]
  },
  {
   "cell_type": "code",
   "execution_count": 56,
   "metadata": {},
   "outputs": [
    {
     "data": {
      "text/plain": [
       "9    998\n",
       "0      1\n",
       "dtype: int64"
      ]
     },
     "execution_count": 56,
     "metadata": {},
     "output_type": "execute_result"
    }
   ],
   "source": [
    "pd.Series(res).value_counts()"
   ]
  },
  {
   "cell_type": "code",
   "execution_count": 57,
   "metadata": {},
   "outputs": [
    {
     "data": {
      "application/vnd.jupyter.widget-view+json": {
       "model_id": "8ed26b61bd9b4d5a95bc135eda41f1b2",
       "version_major": 2,
       "version_minor": 0
      },
      "text/plain": [
       "HBox(children=(FloatProgress(value=0.0, max=1000.0), HTML(value='')))"
      ]
     },
     "metadata": {},
     "output_type": "display_data"
    },
    {
     "name": "stdout",
     "output_type": "stream",
     "text": [
      "\n"
     ]
    }
   ],
   "source": [
    "from tqdm.notebook import tqdm\n",
    "res = []\n",
    "for c in tqdm(range(734292, 735292)):\n",
    "    res.append(get_top_1_recs(model, eval_data.iloc[c-1:c][model.feature_names_]))"
   ]
  },
  {
   "cell_type": "code",
   "execution_count": 58,
   "metadata": {},
   "outputs": [
    {
     "data": {
      "text/plain": [
       "9    1000\n",
       "dtype: int64"
      ]
     },
     "execution_count": 58,
     "metadata": {},
     "output_type": "execute_result"
    }
   ],
   "source": [
    "pd.Series(res).value_counts()"
   ]
  },
  {
   "cell_type": "markdown",
   "metadata": {},
   "source": [
    "__Выводы__:\n",
    "\n",
    "* ```content_id``` сильно влияет на таргет, как и ```time_living_push``` - были исключены из построения модели, из-за большого числа малочисленных вариантов конктреных контентов. ```last_opened_hour_before``` - не сильно докидывает качество, так как примеров слишком мало\n",
    "* Самый популярный час, который выдает модель = 9\n",
    "* Стоит укрупнять классы - 7, 8, 9, 10, 11, 12, чтобы добиться лучшего качества\n",
    "* Для более разнообразной выдачи лучшего часа необходимо больше фичей\n",
    "* Есть GPU реализация, что существенно ускорит ежедневное-еженедельное переобучение модели"
   ]
  },
  {
   "cell_type": "markdown",
   "metadata": {},
   "source": [
    "### Catboost как задача ранжирования"
   ]
  },
  {
   "cell_type": "code",
   "execution_count": 59,
   "metadata": {},
   "outputs": [],
   "source": [
    "drop_cols = [\n",
    "    'push_time', 'push_opened_time', \n",
    "    'create_at', 'push_day', 'user_id', 'content_id',\n",
    "    'has_opened_push_day_before', 'avg_ratio_opened_push_in_day',\n",
    "    'last_opened_hour_before', 'time_living_push'\n",
    "]\n",
    "train = new_df[new_df.push_day < pd.to_datetime('2021-12-14')].sort_values(by=\"uid\")\\\n",
    "        .drop(columns=drop_cols).drop_duplicates()\n",
    "X_train = train.drop(columns=\"push_opened\")\n",
    "y_train = train.push_opened\n",
    "\n",
    "test = new_df[new_df.push_day == pd.to_datetime('2021-12-14')].sort_values(by=\"uid\")\\\n",
    "        .drop(columns=drop_cols).drop_duplicates()\n",
    "X_test = test.drop(columns=\"push_opened\")\n",
    "y_test = test.push_opened"
   ]
  },
  {
   "cell_type": "code",
   "execution_count": 60,
   "metadata": {},
   "outputs": [],
   "source": [
    "train_pool = Pool(\n",
    "    data=X_train.drop(['uid'], axis=1),\n",
    "    label=y_train,\n",
    "    group_id=X_train['uid']\n",
    ")\n",
    "\n",
    "\n",
    "test_pool = Pool(\n",
    "    data=X_test.drop(['uid'], axis=1),\n",
    "    label=y_test,\n",
    "    group_id=X_test['uid']\n",
    ")"
   ]
  },
  {
   "cell_type": "code",
   "execution_count": 61,
   "metadata": {},
   "outputs": [
    {
     "data": {
      "application/vnd.jupyter.widget-view+json": {
       "model_id": "8ff88dc0cb9f4f12b7c9de72c6ff20ae",
       "version_major": 2,
       "version_minor": 0
      },
      "text/plain": [
       "MetricVisualizer(layout=Layout(align_self='stretch', height='500px'))"
      ]
     },
     "metadata": {},
     "output_type": "display_data"
    },
    {
     "data": {
      "text/plain": [
       "<catboost.core.CatBoostRanker at 0x7f7dd5e6aca0>"
      ]
     },
     "execution_count": 61,
     "metadata": {},
     "output_type": "execute_result"
    }
   ],
   "source": [
    "from catboost import Pool, CatBoostRanker\n",
    "\n",
    "parameters = {\n",
    "    'learning_rate': 0.03,\n",
    "    'iterations': 1000,\n",
    "    'custom_metric': ['PrecisionAt:top=1', 'RecallAt:top=1'],\n",
    "    'l2_leaf_reg': 2,\n",
    "    'early_stopping_rounds': 100,\n",
    "    'verbose': False,\n",
    "    'random_seed': 13,\n",
    "}\n",
    "\n",
    "model = CatBoostRanker(**parameters)\n",
    "model.fit(train_pool, eval_set=test_pool, plot=True)"
   ]
  },
  {
   "cell_type": "code",
   "execution_count": 67,
   "metadata": {},
   "outputs": [
    {
     "data": {
      "text/plain": [
       "{'learn': {'PrecisionAt:top=1': 0.0663606471599051,\n",
       "  'RecallAt:top=1': 0.9852523372636237},\n",
       " 'validation': {'PFound': 0.06041244475382261,\n",
       "  'PrecisionAt:top=1': 0.05291366082365059,\n",
       "  'RecallAt:top=1': 0.9882677264311543}}"
      ]
     },
     "execution_count": 67,
     "metadata": {},
     "output_type": "execute_result"
    }
   ],
   "source": [
    "model.best_score_"
   ]
  },
  {
   "cell_type": "code",
   "execution_count": 68,
   "metadata": {},
   "outputs": [
    {
     "data": {
      "text/plain": [
       "<matplotlib.axes._subplots.AxesSubplot at 0x7f7df86a4b20>"
      ]
     },
     "execution_count": 68,
     "metadata": {},
     "output_type": "execute_result"
    },
    {
     "data": {
      "image/png": "[encoded data removed]",
      "text/plain": [
       "<Figure size 640x480 with 1 Axes>"
      ]
     },
     "metadata": {},
     "output_type": "display_data"
    }
   ],
   "source": [
    "pd.Series(model.predict(test_pool)).hist()"
   ]
  },
  {
   "cell_type": "code",
   "execution_count": 69,
   "metadata": {},
   "outputs": [
    {
     "data": {
      "text/plain": [
       "(0.06313730360802335, 0.26945298420438885, 0.10230325716183172, None)"
      ]
     },
     "execution_count": 69,
     "metadata": {},
     "output_type": "execute_result"
    }
   ],
   "source": [
    "from sklearn.metrics import precision_recall_fscore_support\n",
    "threshold = 0.3\n",
    "precision_recall_fscore_support(y_test, model.predict(test_pool) > threshold, average='binary')"
   ]
  },
  {
   "cell_type": "code",
   "execution_count": 70,
   "metadata": {},
   "outputs": [],
   "source": [
    "preds = model.predict(test_pool)"
   ]
  },
  {
   "cell_type": "code",
   "execution_count": 71,
   "metadata": {},
   "outputs": [
    {
     "data": {
      "image/png": "[encoded data removed]",
      "text/plain": [
       "<Figure size 640x480 with 1 Axes>"
      ]
     },
     "metadata": {},
     "output_type": "display_data"
    }
   ],
   "source": [
    "import matplotlib.pyplot as plt\n",
    "from sklearn.metrics import roc_curve, roc_auc_score\n",
    "fpr, tpr, _ = roc_curve(y_test, 1 - preds)\n",
    "auc = roc_auc_score(y_test, 1 - preds)\n",
    "#create ROC curve\n",
    "plt.style.use('default');\n",
    "plt.plot(fpr,tpr,label=\"AUC=\"+str(auc))\n",
    "plt.legend(loc=4)\n",
    "plt.ylabel('True Positive Rate')\n",
    "plt.xlabel('False Positive Rate')\n",
    "plt.show()"
   ]
  },
  {
   "cell_type": "markdown",
   "metadata": {},
   "source": [
    "A special case: top-1 prediction\n",
    "Someday you may face with a problem  you will need to predict the top one most relevant object for a given query.\n",
    "For this purpose CatBoostRanker has a mode called QuerySoftMax.\n",
    "\n",
    "Suppose our dataset contain a binary target: 1  mean best document for a query, 0  others."
   ]
  },
  {
   "cell_type": "code",
   "execution_count": 72,
   "metadata": {},
   "outputs": [],
   "source": [
    "drop_cols = [\n",
    "    'push_time', 'push_opened_time', \n",
    "    'create_at', 'push_day', 'user_id', 'content_id',\n",
    "    'has_opened_push_day_before', 'avg_ratio_opened_push_in_day',\n",
    "    'last_opened_hour_before', 'time_living_push'\n",
    "]\n",
    "train = new_df[new_df.push_day < pd.to_datetime('2021-12-14')].sort_values(by=\"uid\")\\\n",
    "        .drop(columns=drop_cols).drop_duplicates()\n",
    "X_train = train[['push_opened', 'hour', 'uid']]\n",
    "y_train = train.push_opened\n",
    "\n",
    "test = new_df[new_df.push_day == pd.to_datetime('2021-12-14')].sort_values(by=\"uid\")\\\n",
    "        .drop(columns=drop_cols).drop_duplicates()\n",
    "X_test = test[['push_opened', 'hour', 'uid']]\n",
    "y_test = test.push_opened"
   ]
  },
  {
   "cell_type": "code",
   "execution_count": 73,
   "metadata": {},
   "outputs": [],
   "source": [
    "def create_weights(queries):\n",
    "    query_set = np.unique(queries)\n",
    "    query_weights = np.random.uniform(size=query_set.shape[0])\n",
    "    weights = np.zeros(shape=queries.shape)\n",
    "    \n",
    "    for i, query_id in enumerate(query_set):\n",
    "        weights[queries == query_id] = query_weights[i]\n",
    "    \n",
    "    return weights"
   ]
  },
  {
   "cell_type": "code",
   "execution_count": 74,
   "metadata": {},
   "outputs": [
    {
     "name": "stdout",
     "output_type": "stream",
     "text": [
      "CPU times: user 30min 1s, sys: 2min 33s, total: 32min 34s\n",
      "Wall time: 12min 57s\n"
     ]
    }
   ],
   "source": [
    "%%time\n",
    "train_pool = Pool(\n",
    "    data=X_train.drop(columns='uid'),\n",
    "    label=y_train,\n",
    "    group_id=X_train['uid'],\n",
    "    group_weight=create_weights(X_train['uid'])\n",
    ")\n",
    "\n",
    "\n",
    "test_pool = Pool(\n",
    "    data=X_test.drop(columns='uid'),\n",
    "    label=y_test,\n",
    "    group_id=X_test['uid'],\n",
    "    group_weight=create_weights(X_test['uid'])\n",
    ")"
   ]
  },
  {
   "cell_type": "code",
   "execution_count": 75,
   "metadata": {
    "scrolled": true
   },
   "outputs": [
    {
     "data": {
      "application/vnd.jupyter.widget-view+json": {
       "model_id": "1829a6045e4746438a5fa42dfe1d4062",
       "version_major": 2,
       "version_minor": 0
      },
      "text/plain": [
       "MetricVisualizer(layout=Layout(align_self='stretch', height='500px'))"
      ]
     },
     "metadata": {},
     "output_type": "display_data"
    },
    {
     "ename": "KeyboardInterrupt",
     "evalue": "",
     "output_type": "error",
     "traceback": [
      "\u001b[0;31m---------------------------------------------------------------------------\u001b[0m",
      "\u001b[0;31mKeyboardInterrupt\u001b[0m                         Traceback (most recent call last)",
      "\u001b[0;32m<ipython-input-75-cd5b7d08606a>\u001b[0m in \u001b[0;36m<module>\u001b[0;34m\u001b[0m\n\u001b[1;32m     23\u001b[0m     \u001b[0;32mreturn\u001b[0m \u001b[0mmodel\u001b[0m\u001b[0;34m\u001b[0m\u001b[0;34m\u001b[0m\u001b[0m\n\u001b[1;32m     24\u001b[0m \u001b[0;34m\u001b[0m\u001b[0m\n\u001b[0;32m---> 25\u001b[0;31m model = fit_model(\n\u001b[0m\u001b[1;32m     26\u001b[0m     \u001b[0;34m'QuerySoftMax'\u001b[0m\u001b[0;34m,\u001b[0m\u001b[0;34m\u001b[0m\u001b[0;34m\u001b[0m\u001b[0m\n\u001b[1;32m     27\u001b[0m     \u001b[0madditional_params\u001b[0m\u001b[0;34m=\u001b[0m\u001b[0;34m{\u001b[0m\u001b[0;34m'custom_metric'\u001b[0m\u001b[0;34m:\u001b[0m \u001b[0;34m[\u001b[0m\u001b[0;34m'PrecisionAt:top=1'\u001b[0m\u001b[0;34m,\u001b[0m \u001b[0;34m'RecallAt:top=1'\u001b[0m\u001b[0;34m]\u001b[0m\u001b[0;34m}\u001b[0m\u001b[0;34m,\u001b[0m\u001b[0;34m\u001b[0m\u001b[0;34m\u001b[0m\u001b[0m\n",
      "\u001b[0;32m<ipython-input-75-cd5b7d08606a>\u001b[0m in \u001b[0;36mfit_model\u001b[0;34m(loss_function, additional_params, train_pool, test_pool)\u001b[0m\n\u001b[1;32m     19\u001b[0m \u001b[0;34m\u001b[0m\u001b[0m\n\u001b[1;32m     20\u001b[0m     \u001b[0mmodel\u001b[0m \u001b[0;34m=\u001b[0m \u001b[0mCatBoostRanker\u001b[0m\u001b[0;34m(\u001b[0m\u001b[0;34m**\u001b[0m\u001b[0mparameters\u001b[0m\u001b[0;34m)\u001b[0m\u001b[0;34m\u001b[0m\u001b[0;34m\u001b[0m\u001b[0m\n\u001b[0;32m---> 21\u001b[0;31m     \u001b[0mmodel\u001b[0m\u001b[0;34m.\u001b[0m\u001b[0mfit\u001b[0m\u001b[0;34m(\u001b[0m\u001b[0mtrain_pool\u001b[0m\u001b[0;34m,\u001b[0m \u001b[0meval_set\u001b[0m\u001b[0;34m=\u001b[0m\u001b[0mtest_pool\u001b[0m\u001b[0;34m,\u001b[0m \u001b[0mplot\u001b[0m\u001b[0;34m=\u001b[0m\u001b[0;32mTrue\u001b[0m\u001b[0;34m)\u001b[0m\u001b[0;34m\u001b[0m\u001b[0;34m\u001b[0m\u001b[0m\n\u001b[0m\u001b[1;32m     22\u001b[0m \u001b[0;34m\u001b[0m\u001b[0m\n\u001b[1;32m     23\u001b[0m     \u001b[0;32mreturn\u001b[0m \u001b[0mmodel\u001b[0m\u001b[0;34m\u001b[0m\u001b[0;34m\u001b[0m\u001b[0m\n",
      "\u001b[0;32m~/opt/anaconda3/lib/python3.8/site-packages/catboost/core.py\u001b[0m in \u001b[0;36mfit\u001b[0;34m(self, X, y, group_id, cat_features, text_features, embedding_features, pairs, sample_weight, group_weight, subgroup_id, pairs_weight, baseline, use_best_model, eval_set, verbose, logging_level, plot, column_description, verbose_eval, metric_period, silent, early_stopping_rounds, save_snapshot, snapshot_file, snapshot_interval, init_model, callbacks, log_cout, log_cerr)\u001b[0m\n\u001b[1;32m   5736\u001b[0m             \u001b[0mCatBoostRanker\u001b[0m\u001b[0;34m.\u001b[0m\u001b[0m_check_is_compatible_loss\u001b[0m\u001b[0;34m(\u001b[0m\u001b[0mparams\u001b[0m\u001b[0;34m[\u001b[0m\u001b[0;34m'loss_function'\u001b[0m\u001b[0;34m]\u001b[0m\u001b[0;34m)\u001b[0m\u001b[0;34m\u001b[0m\u001b[0;34m\u001b[0m\u001b[0m\n\u001b[1;32m   5737\u001b[0m \u001b[0;34m\u001b[0m\u001b[0m\n\u001b[0;32m-> 5738\u001b[0;31m         self._fit(X, y, cat_features, text_features, embedding_features, pairs,\n\u001b[0m\u001b[1;32m   5739\u001b[0m                   \u001b[0msample_weight\u001b[0m\u001b[0;34m,\u001b[0m \u001b[0mgroup_id\u001b[0m\u001b[0;34m,\u001b[0m \u001b[0mgroup_weight\u001b[0m\u001b[0;34m,\u001b[0m \u001b[0msubgroup_id\u001b[0m\u001b[0;34m,\u001b[0m \u001b[0mpairs_weight\u001b[0m\u001b[0;34m,\u001b[0m \u001b[0mbaseline\u001b[0m\u001b[0;34m,\u001b[0m \u001b[0muse_best_model\u001b[0m\u001b[0;34m,\u001b[0m\u001b[0;34m\u001b[0m\u001b[0;34m\u001b[0m\u001b[0m\n\u001b[1;32m   5740\u001b[0m                   \u001b[0meval_set\u001b[0m\u001b[0;34m,\u001b[0m \u001b[0mverbose\u001b[0m\u001b[0;34m,\u001b[0m \u001b[0mlogging_level\u001b[0m\u001b[0;34m,\u001b[0m \u001b[0mplot\u001b[0m\u001b[0;34m,\u001b[0m \u001b[0mcolumn_description\u001b[0m\u001b[0;34m,\u001b[0m \u001b[0mverbose_eval\u001b[0m\u001b[0;34m,\u001b[0m \u001b[0mmetric_period\u001b[0m\u001b[0;34m,\u001b[0m\u001b[0;34m\u001b[0m\u001b[0;34m\u001b[0m\u001b[0m\n",
      "\u001b[0;32m~/opt/anaconda3/lib/python3.8/site-packages/catboost/core.py\u001b[0m in \u001b[0;36m_fit\u001b[0;34m(self, X, y, cat_features, text_features, embedding_features, pairs, sample_weight, group_id, group_weight, subgroup_id, pairs_weight, baseline, use_best_model, eval_set, verbose, logging_level, plot, column_description, verbose_eval, metric_period, silent, early_stopping_rounds, save_snapshot, snapshot_file, snapshot_interval, init_model, callbacks, log_cout, log_cerr)\u001b[0m\n\u001b[1;32m   2087\u001b[0m         \u001b[0;32mwith\u001b[0m \u001b[0mlog_fixup\u001b[0m\u001b[0;34m(\u001b[0m\u001b[0mlog_cout\u001b[0m\u001b[0;34m,\u001b[0m \u001b[0mlog_cerr\u001b[0m\u001b[0;34m)\u001b[0m\u001b[0;34m,\u001b[0m\u001b[0;31m \u001b[0m\u001b[0;31m\\\u001b[0m\u001b[0;34m\u001b[0m\u001b[0;34m\u001b[0m\u001b[0m\n\u001b[1;32m   2088\u001b[0m             \u001b[0mplot_wrapper\u001b[0m\u001b[0;34m(\u001b[0m\u001b[0mplot\u001b[0m\u001b[0;34m,\u001b[0m \u001b[0;34m[\u001b[0m\u001b[0m_get_train_dir\u001b[0m\u001b[0;34m(\u001b[0m\u001b[0mself\u001b[0m\u001b[0;34m.\u001b[0m\u001b[0mget_params\u001b[0m\u001b[0;34m(\u001b[0m\u001b[0;34m)\u001b[0m\u001b[0;34m)\u001b[0m\u001b[0;34m]\u001b[0m\u001b[0;34m)\u001b[0m\u001b[0;34m:\u001b[0m\u001b[0;34m\u001b[0m\u001b[0;34m\u001b[0m\u001b[0m\n\u001b[0;32m-> 2089\u001b[0;31m             self._train(\n\u001b[0m\u001b[1;32m   2090\u001b[0m                 \u001b[0mtrain_pool\u001b[0m\u001b[0;34m,\u001b[0m\u001b[0;34m\u001b[0m\u001b[0;34m\u001b[0m\u001b[0m\n\u001b[1;32m   2091\u001b[0m                 \u001b[0mtrain_params\u001b[0m\u001b[0;34m[\u001b[0m\u001b[0;34m\"eval_sets\"\u001b[0m\u001b[0;34m]\u001b[0m\u001b[0;34m,\u001b[0m\u001b[0;34m\u001b[0m\u001b[0;34m\u001b[0m\u001b[0m\n",
      "\u001b[0;32m~/opt/anaconda3/lib/python3.8/site-packages/catboost/core.py\u001b[0m in \u001b[0;36m_train\u001b[0;34m(self, train_pool, test_pool, params, allow_clear_pool, init_model)\u001b[0m\n\u001b[1;32m   1514\u001b[0m \u001b[0;34m\u001b[0m\u001b[0m\n\u001b[1;32m   1515\u001b[0m     \u001b[0;32mdef\u001b[0m \u001b[0m_train\u001b[0m\u001b[0;34m(\u001b[0m\u001b[0mself\u001b[0m\u001b[0;34m,\u001b[0m \u001b[0mtrain_pool\u001b[0m\u001b[0;34m,\u001b[0m \u001b[0mtest_pool\u001b[0m\u001b[0;34m,\u001b[0m \u001b[0mparams\u001b[0m\u001b[0;34m,\u001b[0m \u001b[0mallow_clear_pool\u001b[0m\u001b[0;34m,\u001b[0m \u001b[0minit_model\u001b[0m\u001b[0;34m)\u001b[0m\u001b[0;34m:\u001b[0m\u001b[0;34m\u001b[0m\u001b[0;34m\u001b[0m\u001b[0m\n\u001b[0;32m-> 1516\u001b[0;31m         \u001b[0mself\u001b[0m\u001b[0;34m.\u001b[0m\u001b[0m_object\u001b[0m\u001b[0;34m.\u001b[0m\u001b[0m_train\u001b[0m\u001b[0;34m(\u001b[0m\u001b[0mtrain_pool\u001b[0m\u001b[0;34m,\u001b[0m \u001b[0mtest_pool\u001b[0m\u001b[0;34m,\u001b[0m \u001b[0mparams\u001b[0m\u001b[0;34m,\u001b[0m \u001b[0mallow_clear_pool\u001b[0m\u001b[0;34m,\u001b[0m \u001b[0minit_model\u001b[0m\u001b[0;34m.\u001b[0m\u001b[0m_object\u001b[0m \u001b[0;32mif\u001b[0m \u001b[0minit_model\u001b[0m \u001b[0;32melse\u001b[0m \u001b[0;32mNone\u001b[0m\u001b[0;34m)\u001b[0m\u001b[0;34m\u001b[0m\u001b[0;34m\u001b[0m\u001b[0m\n\u001b[0m\u001b[1;32m   1517\u001b[0m         \u001b[0mself\u001b[0m\u001b[0;34m.\u001b[0m\u001b[0m_set_trained_model_attributes\u001b[0m\u001b[0;34m(\u001b[0m\u001b[0;34m)\u001b[0m\u001b[0;34m\u001b[0m\u001b[0;34m\u001b[0m\u001b[0m\n\u001b[1;32m   1518\u001b[0m \u001b[0;34m\u001b[0m\u001b[0m\n",
      "\u001b[0;32m_catboost.pyx\u001b[0m in \u001b[0;36m_catboost._CatBoost._train\u001b[0;34m()\u001b[0m\n",
      "\u001b[0;32m_catboost.pyx\u001b[0m in \u001b[0;36m_catboost._CatBoost._train\u001b[0;34m()\u001b[0m\n",
      "\u001b[0;31mKeyboardInterrupt\u001b[0m: "
     ]
    }
   ],
   "source": [
    "from copy import deepcopy \n",
    "\n",
    "default_parameters = {\n",
    "    'iterations': 500,\n",
    "    'learning_rate': 0.01,\n",
    "    'early_stopping_rounds': 80,\n",
    "    'custom_metric': ['AverageGain:top=1'],\n",
    "    'verbose': False,\n",
    "    'random_seed': 0,\n",
    "}\n",
    "\n",
    "def fit_model(loss_function, additional_params=None, train_pool=train, test_pool=test):\n",
    "    parameters = deepcopy(default_parameters)\n",
    "    parameters['loss_function'] = loss_function\n",
    "    parameters['train_dir'] = loss_function\n",
    "    \n",
    "    if additional_params is not None:\n",
    "        parameters.update(additional_params)\n",
    "        \n",
    "    model = CatBoostRanker(**parameters)\n",
    "    model.fit(train_pool, eval_set=test_pool, plot=True)\n",
    "    \n",
    "    return model\n",
    "\n",
    "model = fit_model(\n",
    "    'QuerySoftMax',\n",
    "    additional_params={'custom_metric': ['PrecisionAt:top=1', 'RecallAt:top=1']},\n",
    "    train_pool=train_pool,\n",
    "    test_pool=test_pool\n",
    ")"
   ]
  },
  {
   "cell_type": "markdown",
   "metadata": {},
   "source": [
    "__Выводы__:\n",
    "\n",
    "* Предлженный вариант ранжирования от разработчиков Catboost - обучается очень долго, требует много ресурсов. С конкретными данными QuerySoftMax не коррелирует с Precision и Recall.\n",
    "* Catboost как задача ранжирования - ок, но хуже чем просто бинарная классификация"
   ]
  },
  {
   "cell_type": "markdown",
   "metadata": {},
   "source": [
    "### Наивный байесовский классификатор"
   ]
  },
  {
   "cell_type": "code",
   "execution_count": 76,
   "metadata": {},
   "outputs": [],
   "source": [
    "#One-hot hours\n",
    "new_df = pd.get_dummies(new_df, columns=['hour'])"
   ]
  },
  {
   "cell_type": "code",
   "execution_count": 77,
   "metadata": {
    "scrolled": true
   },
   "outputs": [
    {
     "name": "stdout",
     "output_type": "stream",
     "text": [
      "CPU times: user 6 s, sys: 777 ms, total: 6.77 s\n",
      "Wall time: 6.84 s\n"
     ]
    },
    {
     "data": {
      "text/plain": [
       "BernoulliNB(alpha=100)"
      ]
     },
     "execution_count": 77,
     "metadata": {},
     "output_type": "execute_result"
    }
   ],
   "source": [
    "%%time\n",
    "from sklearn.naive_bayes import BernoulliNB\n",
    "drop_cols = [\n",
    "    'push_time', 'push_opened_time', 'time_living_push',\n",
    "    'create_at', 'push_day', 'user_id', 'push_opened', 'content_id',\n",
    "    'num_opened_push_day_before', 'avg_ratio_opened_push_in_day',\n",
    "    'last_opened_hour_before'\n",
    "]\n",
    "train = new_df[(new_df.push_day < pd.to_datetime('2021-12-14'))]\n",
    "X_train = train.drop(columns=drop_cols)\n",
    "y_train = train.push_opened\n",
    "\n",
    "val = new_df[(new_df.push_day == pd.to_datetime('2021-12-14'))]\n",
    "X_val = val.drop(columns=drop_cols).drop_duplicates()\n",
    "y_val = val.loc[X_val.index].push_opened\n",
    "\n",
    "nb_model = BernoulliNB(alpha=100)\n",
    "nb_model.fit(X_train, y_train)"
   ]
  },
  {
   "cell_type": "code",
   "execution_count": 78,
   "metadata": {
    "scrolled": true
   },
   "outputs": [
    {
     "data": {
      "text/html": [
       "<div>\n",
       "<style scoped>\n",
       "    .dataframe tbody tr th:only-of-type {\n",
       "        vertical-align: middle;\n",
       "    }\n",
       "\n",
       "    .dataframe tbody tr th {\n",
       "        vertical-align: top;\n",
       "    }\n",
       "\n",
       "    .dataframe thead th {\n",
       "        text-align: right;\n",
       "    }\n",
       "</style>\n",
       "<table border=\"1\" class=\"dataframe\">\n",
       "  <thead>\n",
       "    <tr style=\"text-align: right;\">\n",
       "      <th></th>\n",
       "      <th>labels</th>\n",
       "      <th>imp</th>\n",
       "    </tr>\n",
       "  </thead>\n",
       "  <tbody>\n",
       "    <tr>\n",
       "      <th>3</th>\n",
       "      <td>uid</td>\n",
       "      <td>-0.001319</td>\n",
       "    </tr>\n",
       "    <tr>\n",
       "      <th>4</th>\n",
       "      <td>iid</td>\n",
       "      <td>-0.001319</td>\n",
       "    </tr>\n",
       "    <tr>\n",
       "      <th>2</th>\n",
       "      <td>content_type_pic</td>\n",
       "      <td>-0.002427</td>\n",
       "    </tr>\n",
       "    <tr>\n",
       "      <th>7</th>\n",
       "      <td>hour_2</td>\n",
       "      <td>-2.346505</td>\n",
       "    </tr>\n",
       "    <tr>\n",
       "      <th>0</th>\n",
       "      <td>has_opened_push_day_before</td>\n",
       "      <td>-2.367796</td>\n",
       "    </tr>\n",
       "    <tr>\n",
       "      <th>9</th>\n",
       "      <td>hour_4</td>\n",
       "      <td>-2.428535</td>\n",
       "    </tr>\n",
       "    <tr>\n",
       "      <th>5</th>\n",
       "      <td>hour_0</td>\n",
       "      <td>-2.497197</td>\n",
       "    </tr>\n",
       "    <tr>\n",
       "      <th>23</th>\n",
       "      <td>hour_18</td>\n",
       "      <td>-2.611544</td>\n",
       "    </tr>\n",
       "    <tr>\n",
       "      <th>21</th>\n",
       "      <td>hour_16</td>\n",
       "      <td>-2.655197</td>\n",
       "    </tr>\n",
       "    <tr>\n",
       "      <th>26</th>\n",
       "      <td>hour_21</td>\n",
       "      <td>-2.676035</td>\n",
       "    </tr>\n",
       "    <tr>\n",
       "      <th>8</th>\n",
       "      <td>hour_3</td>\n",
       "      <td>-2.942004</td>\n",
       "    </tr>\n",
       "    <tr>\n",
       "      <th>6</th>\n",
       "      <td>hour_1</td>\n",
       "      <td>-2.974494</td>\n",
       "    </tr>\n",
       "    <tr>\n",
       "      <th>19</th>\n",
       "      <td>hour_14</td>\n",
       "      <td>-2.980446</td>\n",
       "    </tr>\n",
       "    <tr>\n",
       "      <th>22</th>\n",
       "      <td>hour_17</td>\n",
       "      <td>-3.079970</td>\n",
       "    </tr>\n",
       "    <tr>\n",
       "      <th>28</th>\n",
       "      <td>hour_23</td>\n",
       "      <td>-3.133559</td>\n",
       "    </tr>\n",
       "    <tr>\n",
       "      <th>25</th>\n",
       "      <td>hour_20</td>\n",
       "      <td>-3.140540</td>\n",
       "    </tr>\n",
       "    <tr>\n",
       "      <th>20</th>\n",
       "      <td>hour_15</td>\n",
       "      <td>-3.217770</td>\n",
       "    </tr>\n",
       "    <tr>\n",
       "      <th>10</th>\n",
       "      <td>hour_5</td>\n",
       "      <td>-3.261833</td>\n",
       "    </tr>\n",
       "    <tr>\n",
       "      <th>27</th>\n",
       "      <td>hour_22</td>\n",
       "      <td>-3.315881</td>\n",
       "    </tr>\n",
       "    <tr>\n",
       "      <th>24</th>\n",
       "      <td>hour_19</td>\n",
       "      <td>-3.333088</td>\n",
       "    </tr>\n",
       "    <tr>\n",
       "      <th>11</th>\n",
       "      <td>hour_6</td>\n",
       "      <td>-3.473182</td>\n",
       "    </tr>\n",
       "    <tr>\n",
       "      <th>18</th>\n",
       "      <td>hour_13</td>\n",
       "      <td>-3.896867</td>\n",
       "    </tr>\n",
       "    <tr>\n",
       "      <th>12</th>\n",
       "      <td>hour_7</td>\n",
       "      <td>-4.246797</td>\n",
       "    </tr>\n",
       "    <tr>\n",
       "      <th>17</th>\n",
       "      <td>hour_12</td>\n",
       "      <td>-4.442467</td>\n",
       "    </tr>\n",
       "    <tr>\n",
       "      <th>16</th>\n",
       "      <td>hour_11</td>\n",
       "      <td>-4.546211</td>\n",
       "    </tr>\n",
       "    <tr>\n",
       "      <th>13</th>\n",
       "      <td>hour_8</td>\n",
       "      <td>-4.688834</td>\n",
       "    </tr>\n",
       "    <tr>\n",
       "      <th>15</th>\n",
       "      <td>hour_10</td>\n",
       "      <td>-4.863734</td>\n",
       "    </tr>\n",
       "    <tr>\n",
       "      <th>14</th>\n",
       "      <td>hour_9</td>\n",
       "      <td>-4.879211</td>\n",
       "    </tr>\n",
       "    <tr>\n",
       "      <th>1</th>\n",
       "      <td>content_type_caption</td>\n",
       "      <td>-6.022118</td>\n",
       "    </tr>\n",
       "  </tbody>\n",
       "</table>\n",
       "</div>"
      ],
      "text/plain": [
       "                        labels       imp\n",
       "3                          uid -0.001319\n",
       "4                          iid -0.001319\n",
       "2             content_type_pic -0.002427\n",
       "7                       hour_2 -2.346505\n",
       "0   has_opened_push_day_before -2.367796\n",
       "9                       hour_4 -2.428535\n",
       "5                       hour_0 -2.497197\n",
       "23                     hour_18 -2.611544\n",
       "21                     hour_16 -2.655197\n",
       "26                     hour_21 -2.676035\n",
       "8                       hour_3 -2.942004\n",
       "6                       hour_1 -2.974494\n",
       "19                     hour_14 -2.980446\n",
       "22                     hour_17 -3.079970\n",
       "28                     hour_23 -3.133559\n",
       "25                     hour_20 -3.140540\n",
       "20                     hour_15 -3.217770\n",
       "10                      hour_5 -3.261833\n",
       "27                     hour_22 -3.315881\n",
       "24                     hour_19 -3.333088\n",
       "11                      hour_6 -3.473182\n",
       "18                     hour_13 -3.896867\n",
       "12                      hour_7 -4.246797\n",
       "17                     hour_12 -4.442467\n",
       "16                     hour_11 -4.546211\n",
       "13                      hour_8 -4.688834\n",
       "15                     hour_10 -4.863734\n",
       "14                      hour_9 -4.879211\n",
       "1         content_type_caption -6.022118"
      ]
     },
     "execution_count": 78,
     "metadata": {},
     "output_type": "execute_result"
    }
   ],
   "source": [
    "pd.DataFrame(data={\"labels\": X_train.columns, \"imp\": nb_model.coef_[0]})\\\n",
    ".sort_values(by=\"imp\", ascending=False)"
   ]
  },
  {
   "cell_type": "code",
   "execution_count": 79,
   "metadata": {},
   "outputs": [],
   "source": [
    "preds = nb_model.predict_proba(X_val)[:,1]"
   ]
  },
  {
   "cell_type": "code",
   "execution_count": 80,
   "metadata": {},
   "outputs": [
    {
     "data": {
      "text/plain": [
       "<matplotlib.axes._subplots.AxesSubplot at 0x7f7e08e8b550>"
      ]
     },
     "execution_count": 80,
     "metadata": {},
     "output_type": "execute_result"
    },
    {
     "data": {
      "image/png": "[encoded data removed]",
      "text/plain": [
       "<Figure size 640x480 with 1 Axes>"
      ]
     },
     "metadata": {},
     "output_type": "display_data"
    }
   ],
   "source": [
    "pd.Series(preds).hist()"
   ]
  },
  {
   "cell_type": "code",
   "execution_count": 81,
   "metadata": {},
   "outputs": [
    {
     "data": {
      "text/plain": [
       "(0.4644401570088484, 0.18501537156789993, 0.26461725072493986, None)"
      ]
     },
     "execution_count": 81,
     "metadata": {},
     "output_type": "execute_result"
    }
   ],
   "source": [
    "from sklearn.metrics import precision_recall_fscore_support\n",
    "threshold = 0.4\n",
    "precision_recall_fscore_support(y_val, preds > threshold, average='binary')"
   ]
  },
  {
   "cell_type": "code",
   "execution_count": 82,
   "metadata": {},
   "outputs": [
    {
     "data": {
      "image/png": "[encoded data removed]",
      "text/plain": [
       "<Figure size 640x480 with 1 Axes>"
      ]
     },
     "metadata": {},
     "output_type": "display_data"
    }
   ],
   "source": [
    "import matplotlib.pyplot as plt\n",
    "from sklearn.metrics import roc_curve, roc_auc_score\n",
    "fpr, tpr, _ = roc_curve(y_val,  preds)\n",
    "auc = roc_auc_score(y_val,  preds)\n",
    "#create ROC curve\n",
    "plt.plot(fpr,tpr,label=\"AUC=\"+str(auc))\n",
    "plt.legend(loc=4)\n",
    "plt.ylabel('True Positive Rate')\n",
    "plt.xlabel('False Positive Rate')\n",
    "plt.show()"
   ]
  },
  {
   "cell_type": "code",
   "execution_count": 83,
   "metadata": {
    "scrolled": false
   },
   "outputs": [
    {
     "data": {
      "text/plain": [
       "<sklearn.metrics._plot.confusion_matrix.ConfusionMatrixDisplay at 0x7f7dfd6e6eb0>"
      ]
     },
     "execution_count": 83,
     "metadata": {},
     "output_type": "execute_result"
    },
    {
     "data": {
      "image/png": "[encoded data removed]",
      "text/plain": [
       "<Figure size 640x480 with 2 Axes>"
      ]
     },
     "metadata": {},
     "output_type": "display_data"
    }
   ],
   "source": [
    "from sklearn.metrics import plot_confusion_matrix\n",
    "plt.style.use('default');\n",
    "plot_confusion_matrix(nb_model, X_val, y_val)"
   ]
  },
  {
   "cell_type": "code",
   "execution_count": 84,
   "metadata": {},
   "outputs": [],
   "source": [
    "def get_top_1_recs(model, user):\n",
    "    list_hours = np.arange(0, 24)\n",
    "    res = []\n",
    "    res.append(model.predict_proba(user)[:, 1][0])\n",
    "    for h in range(1, 24):\n",
    "        user[f\"hour_{h}\"] = 1\n",
    "        user[f\"hour_{h-1}\"] = 0\n",
    "        res.append(model.predict_proba(user)[:, 1][0])\n",
    "    return np.array(res).argmax()"
   ]
  },
  {
   "cell_type": "code",
   "execution_count": 85,
   "metadata": {
    "scrolled": true
   },
   "outputs": [
    {
     "data": {
      "application/vnd.jupyter.widget-view+json": {
       "model_id": "5ae86d3179f44776ba90664f2eaa4685",
       "version_major": 2,
       "version_minor": 0
      },
      "text/plain": [
       "HBox(children=(FloatProgress(value=0.0, max=999.0), HTML(value='')))"
      ]
     },
     "metadata": {},
     "output_type": "display_data"
    },
    {
     "name": "stdout",
     "output_type": "stream",
     "text": [
      "\n"
     ]
    }
   ],
   "source": [
    "from tqdm.notebook import tqdm\n",
    "res = []\n",
    "for c in tqdm(range(1, 1000)):\n",
    "    res.append(get_top_1_recs(nb_model, X_val.iloc[c-1:c]))"
   ]
  },
  {
   "cell_type": "code",
   "execution_count": 86,
   "metadata": {},
   "outputs": [
    {
     "data": {
      "text/plain": [
       "12    998\n",
       "11      1\n",
       "dtype: int64"
      ]
     },
     "execution_count": 86,
     "metadata": {},
     "output_type": "execute_result"
    }
   ],
   "source": [
    "pd.Series(res).value_counts()"
   ]
  },
  {
   "cell_type": "code",
   "execution_count": 87,
   "metadata": {},
   "outputs": [
    {
     "data": {
      "application/vnd.jupyter.widget-view+json": {
       "model_id": "13a0a8d20de04479b28994c4306c8a4e",
       "version_major": 2,
       "version_minor": 0
      },
      "text/plain": [
       "HBox(children=(FloatProgress(value=0.0, max=1000.0), HTML(value='')))"
      ]
     },
     "metadata": {},
     "output_type": "display_data"
    },
    {
     "name": "stdout",
     "output_type": "stream",
     "text": [
      "\n"
     ]
    }
   ],
   "source": [
    "from tqdm.notebook import tqdm\n",
    "res = []\n",
    "for c in tqdm(range(734292, 735292)):\n",
    "    res.append(get_top_1_recs(nb_model, X_val.iloc[c-1:c]))"
   ]
  },
  {
   "cell_type": "code",
   "execution_count": 88,
   "metadata": {},
   "outputs": [
    {
     "data": {
      "text/plain": [
       "12    1000\n",
       "dtype: int64"
      ]
     },
     "execution_count": 88,
     "metadata": {},
     "output_type": "execute_result"
    }
   ],
   "source": [
    "pd.Series(res).value_counts()"
   ]
  },
  {
   "cell_type": "code",
   "execution_count": 89,
   "metadata": {},
   "outputs": [
    {
     "data": {
      "image/png": "[encoded data removed]",
      "text/plain": [
       "<Figure size 1500x800 with 1 Axes>"
      ]
     },
     "metadata": {},
     "output_type": "display_data"
    }
   ],
   "source": [
    "from sklearn.metrics import roc_curve, roc_auc_score\n",
    "rc_s = []\n",
    "for t in range(0, 24):\n",
    "    curr = X_val[X_val[f\"hour_{t}\"] == 1]\n",
    "    pred_t = nb_model.predict_proba(curr)[:,1]\n",
    "    rc_s.append(roc_auc_score(y_val.loc[curr.index], pred_t))\n",
    "\n",
    "tt = pd.DataFrame(data={\n",
    "    \"class\": range(0, 24),\n",
    "    \"roc_auc\": rc_s\n",
    "}).sort_values(by=\"class\").reset_index(drop=True)\n",
    "\n",
    "plt.figure(figsize=(15, 8));\n",
    "plt.style.use('seaborn-whitegrid');\n",
    "plt.plot(tt[\"class\"], tt[\"roc_auc\"], '-o');\n",
    "for a,b in zip(tt[\"class\"], np.round(tt[\"roc_auc\"], 3)): \n",
    "    plt.text(a, b, str(b), fontsize=13, va='bottom', \\\n",
    "             Bbox = dict(facecolor = 'white', alpha =.4))\n",
    "plt.xticks(tt[\"class\"]);"
   ]
  },
  {
   "cell_type": "markdown",
   "metadata": {},
   "source": [
    "__Выводы__:\n",
    "* По качеству примерно то же самое, что и catboost классификация. У наивного байеса гораздо больше ошибка второго рода\n",
    "* По скорости обучения - байес быстрее catboost, не надо так много ресурсов\n",
    "* Более разнообразные варианты предсказаний - данные больше откалиброваны\n",
    "* Самый популярный час = 12"
   ]
  },
  {
   "cell_type": "markdown",
   "metadata": {},
   "source": [
    "### Популярное за вчера"
   ]
  },
  {
   "cell_type": "markdown",
   "metadata": {},
   "source": [
    "Как задача рекомендации - рекомендуем топ-1\\\n",
    "```users == user_id\n",
    "items == hours\n",
    "rating == push_opened```"
   ]
  },
  {
   "cell_type": "code",
   "execution_count": 90,
   "metadata": {},
   "outputs": [],
   "source": [
    "from itertools import islice, cycle\n",
    "class PopularRecommender():\n",
    "    def __init__(self, max_K=10, days=30, item_column='item_id', dt_column='date'):\n",
    "        self.max_K = max_K\n",
    "        self.days = days\n",
    "        self.item_column = item_column\n",
    "        self.dt_column = dt_column\n",
    "        self.recommendations = []\n",
    "        \n",
    "    def fit(self, df):\n",
    "        min_date = df[self.dt_column].max() - pd.DateOffset(days=self.days)\n",
    "        self.recommendations = df.loc[df[self.dt_column] > min_date, self.item_column].value_counts().head(self.max_K).index.values\n",
    "    \n",
    "    def recommend(self, users=None, N=10):\n",
    "        recs = self.recommendations[:N]\n",
    "        if users is None:\n",
    "            return recs\n",
    "        else:\n",
    "            return list(islice(cycle([recs]), len(users)))"
   ]
  },
  {
   "cell_type": "code",
   "execution_count": 105,
   "metadata": {},
   "outputs": [],
   "source": [
    "X_train = df[df.push_day < pd.to_datetime('2021-12-14')]\n",
    "X_test = df[df.push_day == pd.to_datetime('2021-12-14')]\n",
    "X_train[\"item_id\"] = X_train.hour\n",
    "X_test[\"item_id\"] = X_test.hour\n",
    "X_train = X_train[['user_id', 'item_id', 'push_day']].drop_duplicates()\n",
    "X_test = X_test[['user_id', 'item_id', 'push_day']].drop_duplicates()"
   ]
  },
  {
   "cell_type": "code",
   "execution_count": 106,
   "metadata": {
    "scrolled": true
   },
   "outputs": [
    {
     "name": "stdout",
     "output_type": "stream",
     "text": [
      "CPU times: user 1.43 s, sys: 18.9 ms, total: 1.45 s\n",
      "Wall time: 1.45 s\n"
     ]
    }
   ],
   "source": [
    "%%time\n",
    "pop_model = PopularRecommender(max_K=1, days=2, dt_column='push_day', item_column='item_id')\n",
    "pop_model.fit(X_train)"
   ]
  },
  {
   "cell_type": "code",
   "execution_count": 107,
   "metadata": {},
   "outputs": [
    {
     "data": {
      "text/plain": [
       "2"
      ]
     },
     "execution_count": 107,
     "metadata": {},
     "output_type": "execute_result"
    }
   ],
   "source": [
    "most_popular_hour = pop_model.recommend()\n",
    "most_popular_hour[0]"
   ]
  },
  {
   "cell_type": "code",
   "execution_count": 108,
   "metadata": {},
   "outputs": [
    {
     "data": {
      "text/html": [
       "<div>\n",
       "<style scoped>\n",
       "    .dataframe tbody tr th:only-of-type {\n",
       "        vertical-align: middle;\n",
       "    }\n",
       "\n",
       "    .dataframe tbody tr th {\n",
       "        vertical-align: top;\n",
       "    }\n",
       "\n",
       "    .dataframe thead th {\n",
       "        text-align: right;\n",
       "    }\n",
       "</style>\n",
       "<table border=\"1\" class=\"dataframe\">\n",
       "  <thead>\n",
       "    <tr style=\"text-align: right;\">\n",
       "      <th></th>\n",
       "      <th>user_id</th>\n",
       "      <th>item_id</th>\n",
       "      <th>rank</th>\n",
       "    </tr>\n",
       "  </thead>\n",
       "  <tbody>\n",
       "    <tr>\n",
       "      <th>0</th>\n",
       "      <td>CMN0ZP0</td>\n",
       "      <td>2</td>\n",
       "      <td>1</td>\n",
       "    </tr>\n",
       "    <tr>\n",
       "      <th>1</th>\n",
       "      <td>ME0AUHC</td>\n",
       "      <td>2</td>\n",
       "      <td>1</td>\n",
       "    </tr>\n",
       "    <tr>\n",
       "      <th>2</th>\n",
       "      <td>FCKURQL</td>\n",
       "      <td>2</td>\n",
       "      <td>1</td>\n",
       "    </tr>\n",
       "    <tr>\n",
       "      <th>3</th>\n",
       "      <td>NIYSRRH</td>\n",
       "      <td>2</td>\n",
       "      <td>1</td>\n",
       "    </tr>\n",
       "    <tr>\n",
       "      <th>4</th>\n",
       "      <td>KIFSZ83</td>\n",
       "      <td>2</td>\n",
       "      <td>1</td>\n",
       "    </tr>\n",
       "  </tbody>\n",
       "</table>\n",
       "</div>"
      ],
      "text/plain": [
       "   user_id item_id  rank\n",
       "0  CMN0ZP0       2     1\n",
       "1  ME0AUHC       2     1\n",
       "2  FCKURQL       2     1\n",
       "3  NIYSRRH       2     1\n",
       "4  KIFSZ83       2     1"
      ]
     },
     "execution_count": 108,
     "metadata": {},
     "output_type": "execute_result"
    }
   ],
   "source": [
    "recs = pd.DataFrame({'user_id': X_test['user_id'].unique()})\n",
    "recs['item_id'] = pop_model.recommend(recs['user_id'], N=1)\n",
    "recs = recs.explode('item_id')\n",
    "recs[\"rank\"] = 1\n",
    "recs.head()"
   ]
  },
  {
   "cell_type": "code",
   "execution_count": 109,
   "metadata": {},
   "outputs": [],
   "source": [
    "tt = df[df.push_day == pd.to_datetime('2021-12-14')][[\"user_id\", \"push_opened\", \"hour\"]]\n",
    "tt = tt.groupby([\"user_id\", \"hour\"], as_index=False).push_opened.max()\n",
    "tt = tt.merge(recs)\n",
    "tt[\"preds\"] = (tt.hour == tt.item_id).astype(int)"
   ]
  },
  {
   "cell_type": "code",
   "execution_count": 110,
   "metadata": {},
   "outputs": [
    {
     "data": {
      "text/plain": [
       "(0.03928077155955367, 0.09640184683967522, 0.05581759798423648, None)"
      ]
     },
     "execution_count": 110,
     "metadata": {},
     "output_type": "execute_result"
    }
   ],
   "source": [
    "from sklearn.metrics import precision_recall_fscore_support\n",
    "\n",
    "precision_recall_fscore_support(tt[\"push_opened\"], tt.preds, average='binary')"
   ]
  },
  {
   "cell_type": "code",
   "execution_count": 111,
   "metadata": {},
   "outputs": [],
   "source": [
    "def compute_metrics(train, test, recs, top_N):\n",
    "    result = {}\n",
    "    test_recs = test.set_index(['user_id', 'item_id']).join(recs.set_index(['user_id', 'item_id']))\n",
    "    test_recs = test_recs.sort_values(by=['user_id', 'rank'])\n",
    "\n",
    "    test_recs['users_item_count'] = test_recs.groupby(level='user_id')['rank'].transform(np.size)\n",
    "    test_recs['reciprocal_rank'] = (1 / test_recs['rank']).fillna(0)\n",
    "    test_recs['cumulative_rank'] = test_recs.groupby(level='user_id').cumcount() + 1\n",
    "    test_recs['cumulative_rank'] = test_recs['cumulative_rank'] / test_recs['rank']\n",
    "    \n",
    "    users_count = test_recs.index.get_level_values('user_id').nunique()\n",
    "    for k in range(1, top_N + 1):\n",
    "        hit_k = f'hit@{k}'\n",
    "        test_recs[hit_k] = test_recs['rank'] <= k\n",
    "        result[f'Precision@{k}'] = (test_recs[hit_k] / k).sum() / users_count\n",
    "        result[f'Recall@{k}'] = (test_recs[hit_k] / test_recs['users_item_count']).sum() / users_count\n",
    "    \n",
    "    return pd.Series(result)"
   ]
  },
  {
   "cell_type": "code",
   "execution_count": 112,
   "metadata": {
    "scrolled": true
   },
   "outputs": [],
   "source": [
    "tt = df[(df.push_day < pd.to_datetime('2021-12-14'))\\\n",
    "        & (df.push_opened == 1)][['user_id', 'hour', 'push_day']].drop_duplicates()"
   ]
  },
  {
   "cell_type": "code",
   "execution_count": 113,
   "metadata": {},
   "outputs": [],
   "source": [
    "tt2 = tt = df[(df.push_day == pd.to_datetime('2021-12-14'))\\\n",
    "        & (df.push_opened == 1)][['user_id', 'hour', 'push_day']].drop_duplicates()\n",
    "tt2['item_id'] = tt2['hour']"
   ]
  },
  {
   "cell_type": "code",
   "execution_count": 114,
   "metadata": {},
   "outputs": [
    {
     "name": "stdout",
     "output_type": "stream",
     "text": [
      "CPU times: user 8.41 s, sys: 220 ms, total: 8.63 s\n",
      "Wall time: 8.66 s\n"
     ]
    },
    {
     "data": {
      "text/plain": [
       "Precision@1    0.105878\n",
       "Recall@1       0.097402\n",
       "dtype: float64"
      ]
     },
     "execution_count": 114,
     "metadata": {},
     "output_type": "execute_result"
    }
   ],
   "source": [
    "%%time\n",
    "compute_metrics(tt, tt2, recs, 1)"
   ]
  },
  {
   "cell_type": "markdown",
   "metadata": {},
   "source": [
    "__Выводы__ :\n",
    "* По качеству эвристика хуже классификаций\n",
    "* По скорости обучения быстрее всех\n",
    "* Разнообразия предсказаний 0\n",
    "\n",
    "Еще варианты эвристик\n",
    "* Последнее время, в которое открывал пользователь, если нет, то самый популярный час по всем и не в который он точно не открыл.\n",
    "* Самый популярный час открытия, если нет такого, то самый популярный час и не в который он точно не открыл."
   ]
  },
  {
   "cell_type": "markdown",
   "metadata": {},
   "source": [
    "### Коллаборативная фильтрация"
   ]
  },
  {
   "cell_type": "code",
   "execution_count": 115,
   "metadata": {
    "scrolled": false
   },
   "outputs": [
    {
     "name": "stdout",
     "output_type": "stream",
     "text": [
      "CPU times: user 13.7 s, sys: 600 ms, total: 14.3 s\n",
      "Wall time: 14.3 s\n"
     ]
    }
   ],
   "source": [
    "%%time\n",
    "from surprise import SVD, accuracy\n",
    "from surprise import Dataset, Reader\n",
    "from surprise.model_selection import cross_validate\n",
    "from surprise.model_selection.split import train_test_split\n",
    "\n",
    "# preprocessing the data\n",
    "reader = Reader(rating_scale=(0, 1))\n",
    "train = df[df.push_day < pd.to_datetime('2021-12-14')]\\\n",
    "[['user_id', 'hour', 'push_opened']].drop_duplicates()\n",
    "train = train.groupby(['user_id', 'hour'], as_index=False).push_opened.max()\n",
    "\n",
    "test = df[df.push_day == pd.to_datetime('2021-12-14')]\\\n",
    "[['user_id', 'hour', 'push_opened']].drop_duplicates()\n",
    "test = test.groupby(['user_id', 'hour'], as_index=False).push_opened.max()\n",
    "\n",
    "train_load = Dataset.load_from_df(train, reader).build_full_trainset()\n",
    "test_load = Dataset.load_from_df(test, reader)"
   ]
  },
  {
   "cell_type": "code",
   "execution_count": 116,
   "metadata": {},
   "outputs": [
    {
     "name": "stdout",
     "output_type": "stream",
     "text": [
      "CPU times: user 1min 15s, sys: 377 ms, total: 1min 15s\n",
      "Wall time: 1min 15s\n"
     ]
    },
    {
     "data": {
      "text/plain": [
       "<surprise.prediction_algorithms.matrix_factorization.SVD at 0x7f7de4738190>"
      ]
     },
     "execution_count": 116,
     "metadata": {},
     "output_type": "execute_result"
    }
   ],
   "source": [
    "%%time\n",
    "# initial model\n",
    "algo = SVD(random_state = 42)\n",
    "algo.fit(train_load)"
   ]
  },
  {
   "cell_type": "code",
   "execution_count": 117,
   "metadata": {
    "scrolled": true
   },
   "outputs": [
    {
     "name": "stdout",
     "output_type": "stream",
     "text": [
      "CPU times: user 1min 5s, sys: 235 ms, total: 1min 5s\n",
      "Wall time: 1min 5s\n"
     ]
    }
   ],
   "source": [
    "%%time\n",
    "testset = [test_load.df.loc[i].to_list() for i in range(len(test_load.df))]\n",
    "pred = algo.test(testset)"
   ]
  },
  {
   "cell_type": "code",
   "execution_count": 118,
   "metadata": {},
   "outputs": [],
   "source": [
    "from collections import defaultdict\n",
    "# First map the predictions to each user.\n",
    "top_n = defaultdict(list)\n",
    "for uid, iid, true_r, est, _ in pred:\n",
    "    top_n[(uid, iid)] = est"
   ]
  },
  {
   "cell_type": "code",
   "execution_count": 119,
   "metadata": {},
   "outputs": [],
   "source": [
    "pp = list(top_n.values())"
   ]
  },
  {
   "cell_type": "code",
   "execution_count": 120,
   "metadata": {},
   "outputs": [],
   "source": [
    "test[\"preds\"] = pp"
   ]
  },
  {
   "cell_type": "code",
   "execution_count": 121,
   "metadata": {},
   "outputs": [
    {
     "name": "stdout",
     "output_type": "stream",
     "text": [
      "CPU times: user 157 ms, sys: 5.75 ms, total: 162 ms\n",
      "Wall time: 161 ms\n"
     ]
    },
    {
     "data": {
      "text/plain": [
       "(0.2009116728489271, 0.5274637796529215, 0.2909862763037512, None)"
      ]
     },
     "execution_count": 121,
     "metadata": {},
     "output_type": "execute_result"
    }
   ],
   "source": [
    "%%time\n",
    "from sklearn.metrics import precision_recall_fscore_support\n",
    "threshold = 0.1\n",
    "precision_recall_fscore_support(test[\"push_opened\"], test[\"preds\"] > threshold, average='binary')"
   ]
  },
  {
   "cell_type": "code",
   "execution_count": 122,
   "metadata": {},
   "outputs": [
    {
     "data": {
      "image/png": "[encoded data removed]",
      "text/plain": [
       "<Figure size 640x480 with 1 Axes>"
      ]
     },
     "metadata": {},
     "output_type": "display_data"
    }
   ],
   "source": [
    "import matplotlib.pyplot as plt\n",
    "from sklearn.metrics import roc_curve, roc_auc_score\n",
    "fpr, tpr, _ = roc_curve(test[\"push_opened\"], test[\"preds\"])\n",
    "auc = roc_auc_score(test[\"push_opened\"], test[\"preds\"])\n",
    "#create ROC curve\n",
    "plt.plot(fpr, tpr, label=\"AUC=\"+str(auc))\n",
    "plt.legend(loc=4)\n",
    "plt.ylabel('True Positive Rate')\n",
    "plt.xlabel('False Positive Rate')\n",
    "plt.show()"
   ]
  },
  {
   "cell_type": "code",
   "execution_count": 124,
   "metadata": {},
   "outputs": [
    {
     "data": {
      "image/png": "[encoded data removed]",
      "text/plain": [
       "<Figure size 640x480 with 2 Axes>"
      ]
     },
     "metadata": {},
     "output_type": "display_data"
    }
   ],
   "source": [
    "import seaborn as sns\n",
    "import matplotlib.pyplot as plt\n",
    "from sklearn.metrics import confusion_matrix\n",
    "threshold = 0.08\n",
    "cf_matrix = confusion_matrix(test[\"push_opened\"], test[\"preds\"] > threshold)\n",
    "ax = sns.heatmap(cf_matrix, annot=True, cmap='Blues', fmt='')\n",
    "\n",
    "ax.set_xlabel('\\nPredicted')\n",
    "ax.set_ylabel('Actual ');\n",
    "\n",
    "## Display the visualization of the Confusion Matrix.\n",
    "plt.show()"
   ]
  },
  {
   "cell_type": "code",
   "execution_count": 125,
   "metadata": {},
   "outputs": [],
   "source": [
    "def get_top_k_recs(svd, user):\n",
    "    list_hours = np.arange(0, 24)\n",
    "    res = []\n",
    "    for h in list_hours:\n",
    "        res.append(svd.predict(user, h).est)\n",
    "    return np.array(res).argmax()"
   ]
  },
  {
   "cell_type": "code",
   "execution_count": 126,
   "metadata": {},
   "outputs": [
    {
     "data": {
      "application/vnd.jupyter.widget-view+json": {
       "model_id": "bba6e12280f24cb1b1a8379ba8ed3996",
       "version_major": 2,
       "version_minor": 0
      },
      "text/plain": [
       "HBox(children=(FloatProgress(value=0.0, max=992235.0), HTML(value='')))"
      ]
     },
     "metadata": {},
     "output_type": "display_data"
    },
    {
     "name": "stdout",
     "output_type": "stream",
     "text": [
      "\n",
      "CPU times: user 2min 13s, sys: 11 s, total: 2min 24s\n",
      "Wall time: 2min 16s\n"
     ]
    }
   ],
   "source": [
    "%%time\n",
    "from collections import defaultdict\n",
    "from tqdm.notebook import tqdm\n",
    "topn = defaultdict(list)\n",
    "for u in tqdm(df.user_id.unique()):\n",
    "    topn[u] = get_top_k_recs(algo, u)"
   ]
  },
  {
   "cell_type": "code",
   "execution_count": 127,
   "metadata": {},
   "outputs": [],
   "source": [
    "pred_classes = list(topn.values())"
   ]
  },
  {
   "cell_type": "code",
   "execution_count": 128,
   "metadata": {},
   "outputs": [
    {
     "data": {
      "image/png": "[encoded data removed]",
      "text/plain": [
       "<Figure size 640x480 with 1 Axes>"
      ]
     },
     "metadata": {},
     "output_type": "display_data"
    }
   ],
   "source": [
    "plt.hist(pred_classes);"
   ]
  },
  {
   "cell_type": "markdown",
   "metadata": {},
   "source": [
    "Есть различные имплементации ускорения:\n",
    "* funk-svd\n",
    "* svd++"
   ]
  },
  {
   "cell_type": "markdown",
   "metadata": {},
   "source": [
    "### Funk SVD "
   ]
  },
  {
   "cell_type": "code",
   "execution_count": 133,
   "metadata": {
    "scrolled": true
   },
   "outputs": [
    {
     "name": "stdout",
     "output_type": "stream",
     "text": [
      "Preprocessing data...\n",
      "\n",
      "Preprocessing data...\n",
      "\n",
      "Epoch 1/100  | val_loss: 0.05 - val_rmse: 0.22 - val_mae: 0.09 - took 0.8 sec\n",
      "Epoch 2/100  | val_loss: 0.05 - val_rmse: 0.22 - val_mae: 0.09 - took 0.1 sec\n",
      "\n",
      "Training took 6 sec\n",
      "CPU times: user 11.5 s, sys: 784 ms, total: 12.3 s\n",
      "Wall time: 12.8 s\n"
     ]
    },
    {
     "data": {
      "text/plain": [
       "<funk_svd.svd.SVD at 0x7f7df18bffa0>"
      ]
     },
     "execution_count": 133,
     "metadata": {},
     "output_type": "execute_result"
    }
   ],
   "source": [
    "%%time\n",
    "from funk_svd import SVD\n",
    "from sklearn.metrics import mean_absolute_error\n",
    "\n",
    "svd = SVD(lr=0.0001, reg=0.01, n_epochs=100, n_factors=2,\n",
    "          early_stopping=True, shuffle=False, min_rating=0, max_rating=1)\n",
    "\n",
    "df['u_id'] = df['user_id']\n",
    "df['i_id'] = df['hour']\n",
    "df['rating'] = df['push_opened']\n",
    "train = df[df.push_day < pd.to_datetime('2021-12-14')]\\\n",
    "                            [['u_id', 'i_id', 'rating']].drop_duplicates()\n",
    "\n",
    "val = df[df.push_day == pd.to_datetime('2021-12-14')]\\\n",
    "                            [['u_id', 'i_id', 'rating']].drop_duplicates().reset_index(drop=True)\n",
    "\n",
    "svd.fit(X=train, X_val=val)"
   ]
  },
  {
   "cell_type": "code",
   "execution_count": 134,
   "metadata": {},
   "outputs": [],
   "source": [
    "pred = svd.predict(val)"
   ]
  },
  {
   "cell_type": "code",
   "execution_count": 135,
   "metadata": {},
   "outputs": [
    {
     "data": {
      "text/plain": [
       "(0.37401574803149606, 0.06302075041129332, 0.1078662912162776, None)"
      ]
     },
     "execution_count": 135,
     "metadata": {},
     "output_type": "execute_result"
    }
   ],
   "source": [
    "from sklearn.metrics import precision_recall_fscore_support\n",
    "threshold = 0.15\n",
    "precision_recall_fscore_support(val['rating'], np.array(pred) > threshold, average='binary')"
   ]
  },
  {
   "cell_type": "code",
   "execution_count": 136,
   "metadata": {},
   "outputs": [
    {
     "data": {
      "image/png": "[encoded data removed]",
      "text/plain": [
       "<Figure size 640x480 with 1 Axes>"
      ]
     },
     "metadata": {},
     "output_type": "display_data"
    }
   ],
   "source": [
    "import matplotlib.pyplot as plt\n",
    "from sklearn.metrics import roc_curve, roc_auc_score\n",
    "fpr, tpr, _ = roc_curve(val['rating'],  pred)\n",
    "auc = roc_auc_score(val['rating'],  pred)\n",
    "#create ROC curve\n",
    "plt.plot(fpr,tpr,label=\"AUC=\"+str(auc))\n",
    "plt.legend(loc=4)\n",
    "plt.ylabel('True Positive Rate')\n",
    "plt.xlabel('False Positive Rate')\n",
    "plt.show()"
   ]
  },
  {
   "cell_type": "code",
   "execution_count": 137,
   "metadata": {},
   "outputs": [
    {
     "data": {
      "image/png": "[encoded data removed]",
      "text/plain": [
       "<Figure size 640x480 with 2 Axes>"
      ]
     },
     "metadata": {},
     "output_type": "display_data"
    }
   ],
   "source": [
    "import seaborn as sns\n",
    "import matplotlib.pyplot as plt\n",
    "\n",
    "cf_matrix = confusion_matrix(val['rating'], np.array(pred) > threshold)\n",
    "ax = sns.heatmap(cf_matrix, annot=True, cmap='Blues', fmt='')\n",
    "\n",
    "ax.set_xlabel('\\nPredicted')\n",
    "ax.set_ylabel('Actual ');\n",
    "\n",
    "## Display the visualization of the Confusion Matrix.\n",
    "plt.show()"
   ]
  },
  {
   "cell_type": "markdown",
   "metadata": {},
   "source": [
    "__Выводы__ :\n",
    "* По качеству SVD surprise лучше классификаций\n",
    "* По скорости обучения сравнимо с catboost, но есть много различных реализаций с ускорением процесса"
   ]
  },
  {
   "cell_type": "markdown",
   "metadata": {},
   "source": [
    "Другие подходы к решению задачи\n",
    "* Pairwise - триплеты из (пользователь, час открытия пуша, час неоткрытия пуша). Предложенные часы отправки пушей можно ранжировать по доле или количеству их открытия\n",
    "* Неявный таргет - не доверять тому, что пользователь в конкретный день в конкретный час не открыл. Можно насемпилировать негативные случаи рандомно, не брать все сразу. Либо определить более точно отрицательный таргет - посмотрел превью и не перешел\n",
    "* BPR-MF: Bayesian Personalized Ranking\n",
    "* Двуэтапная модель: подбор кандидатов ALS, затем ранжирование бустингом\n",
    "* LSTM https://mindbox.ru/journal/product/kak-opredelit-luchshuyu-datu-otpravki-email/\n",
    "* Survival Analysis https://dl.acm.org/doi/abs/10.1145/3289600.3290981"
   ]
  }
 ],
 "metadata": {
  "kernelspec": {
   "display_name": "Python 3",
   "language": "python",
   "name": "python3"
  },
  "language_info": {
   "codemirror_mode": {
    "name": "ipython",
    "version": 3
   },
   "file_extension": ".py",
   "mimetype": "text/x-python",
   "name": "python",
   "nbconvert_exporter": "python",
   "pygments_lexer": "ipython3",
   "version": "3.8.3"
  }
 },
 "nbformat": 4,
 "nbformat_minor": 4
}
